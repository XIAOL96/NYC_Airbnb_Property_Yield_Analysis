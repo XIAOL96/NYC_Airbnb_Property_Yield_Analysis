{
 "cells": [
  {
   "cell_type": "code",
   "execution_count": 2,
   "metadata": {},
   "outputs": [],
   "source": [
    "import pandas as pd"
   ]
  },
  {
   "cell_type": "code",
   "execution_count": 1,
   "metadata": {},
   "outputs": [],
   "source": [
    "nyc_desc = pd.read_csv('/Users/Xiao/Documents/nyc_desc.csv', header=0, index_col=0)"
   ]
  },
  {
   "cell_type": "code",
   "execution_count": 3,
   "metadata": {
    "scrolled": true
   },
   "outputs": [
    {
     "data": {
      "text/plain": [
       "1        Step into our artistic spacious apartment and ...\n",
       "2        An adorable, classic, clean, light-filled one-...\n",
       "3        This is a spacious, clean, furnished master be...\n",
       "4        Make your NY story in our welcoming, home away...\n",
       "5        Urban retreat: enjoy 500 s.f. floor in 1899 br...\n",
       "6        2 BR apartment, with 1 kitchen, 1 bathroom and...\n",
       "7        This listing is NO LONGER active.  ___________...\n",
       "8        A beautiful home away from home for your stay ...\n",
       "9        Please don’t expect the luxury here just a bas...\n",
       "10       Ask about discounts for January to March!  Ren...\n",
       "11       Beautiful 2 Bedroom Apartment, Great for Group...\n",
       "12       Live like a New Yorker instead of a stuffy, ti...\n",
       "13       Great, fun, comfortable loft apartment, fantas...\n",
       "14       rent a room in a brick house rather than just ...\n",
       "15       Freshly painted, bright open space! Excellent ...\n",
       "16       A great location and super quiet apartment in ...\n",
       "17       Meander down our beautiful tree lined street u...\n",
       "18       Bright one bed room apartment in south Park Sl...\n",
       "19       Sweet family home right in the heart of Willia...\n",
       "20       Our clean, quiet two bedroom apartment is very...\n",
       "21       Step into our artistic spacious apartment and ...\n",
       "22       19th Cent Brownstone, Friendly building Excell...\n",
       "23       Create a memorable vacation or business trip b...\n",
       "24       Just renovated sun drenched bedroom in a quiet...\n",
       "25       Welcome to Bushwick, Brooklyn!  Welcome to Rid...\n",
       "26       this 5th floor apartment in a brownstone is re...\n",
       "27       Private Rooms for Rent (Phone number hidden by...\n",
       "28       Spacious, sunny and very quiet studio with exp...\n",
       "29       Great location. Beautiful space. 5-star review...\n",
       "30       This huge one bedroom apartment is located on ...\n",
       "                               ...                        \n",
       "11795    High wood paneled ceilings and lofted beds mak...\n",
       "11796    Great and Cozy apartment in Brooklyn, close to...\n",
       "11797    Right next to the Javits Center and a couple o...\n",
       "11798    Big private room and bathroom for guests. Very...\n",
       "11799    This is a great spacious apartment located jus...\n",
       "11800    安静的,安全的社区,交通便利,干净的环境给你温馨的感觉｡Quiet, safe commun...\n",
       "11801    This charming 3BR apartment is right in the mi...\n",
       "11802    Cozy two bedroom off canal and Mott and near t...\n",
       "11803    A very cozy, spacious, simplistic South Slope/...\n",
       "11804    Huge one bedroom in a prime location on Fifth ...\n",
       "11805    Gorgeous, comfortable and clean apartment. Ide...\n",
       "11806    Shared studio with me! The house is near the 4...\n",
       "11807    Private room in 4 bed, 2 bathroom unit.  Furni...\n",
       "11808    Cozy private room in a modern, airy apartment ...\n",
       "11809    This newly renovated modern duplex with a pati...\n",
       "11810    Brooklyn's Best Spacious Gorgeous room. So ide...\n",
       "11811    Experience a mix of artistic and industrial in...\n",
       "11812    I am excited to share an affordable, safe and ...\n",
       "11813    Great friendly apartment with a spare room wai...\n",
       "11814    Located right off Hudson Yards, in the heart o...\n",
       "11815    friendly and quiet space, near to JFK airport ...\n",
       "11816    Cozy, one bedroom Bronx apartment Near subways...\n",
       "11817    Private studio in a newly renovated constructi...\n",
       "11818    Lovely spacious, 1 bedroom, 1 bathroom, opened...\n",
       "11819    Lovely 1 bedroom apartment located in the hear...\n",
       "11820    Hello, My listing is located a block away from...\n",
       "11821    Beautifully lit, newly renovated 2 bedroom apa...\n",
       "11822    You will adore this sunny, lovely, and fully e...\n",
       "11823    Hello! Clean, renovated room, 33 mins away fro...\n",
       "11824    Charming, cozy atmosphere The whole bottom flo...\n",
       "Name: descriptions, Length: 11824, dtype: object"
      ]
     },
     "execution_count": 3,
     "metadata": {},
     "output_type": "execute_result"
    }
   ],
   "source": [
    "nyc_desc['descriptions']"
   ]
  },
  {
   "cell_type": "code",
   "execution_count": 4,
   "metadata": {},
   "outputs": [
    {
     "data": {
      "text/plain": [
       "(11824, 1)"
      ]
     },
     "execution_count": 4,
     "metadata": {},
     "output_type": "execute_result"
    }
   ],
   "source": [
    "nyc_desc.shape"
   ]
  },
  {
   "cell_type": "code",
   "execution_count": 5,
   "metadata": {},
   "outputs": [],
   "source": [
    "import nltk"
   ]
  },
  {
   "cell_type": "code",
   "execution_count": 6,
   "metadata": {},
   "outputs": [],
   "source": [
    "import gensim\n",
    "from nltk import word_tokenize\n",
    "from nltk.tokenize import RegexpTokenizer\n",
    "from nltk.corpus import stopwords\n",
    "from nltk.stem import WordNetLemmatizer\n",
    "\n",
    "from gensim.corpora.dictionary import Dictionary\n",
    "from gensim.models.tfidfmodel import TfidfModel\n",
    "from gensim.models.ldamodel import LdaModel\n",
    "\n",
    "import itertools\n",
    "from collections import Counter\n",
    "from collections import defaultdict\n",
    "\n",
    "import json\n"
   ]
  },
  {
   "cell_type": "code",
   "execution_count": 7,
   "metadata": {},
   "outputs": [],
   "source": [
    "import pyLDAvis.gensim\n",
    "pyLDAvis.enable_notebook()"
   ]
  },
  {
   "cell_type": "code",
   "execution_count": 189,
   "metadata": {},
   "outputs": [
    {
     "name": "stdout",
     "output_type": "stream",
     "text": [
      "[nltk_data] Downloading package words to /Users/Xiao/nltk_data...\n",
      "[nltk_data]   Package words is already up-to-date!\n"
     ]
    },
    {
     "data": {
      "text/plain": [
       "True"
      ]
     },
     "execution_count": 189,
     "metadata": {},
     "output_type": "execute_result"
    }
   ],
   "source": [
    "nltk.download('words')"
   ]
  },
  {
   "cell_type": "code",
   "execution_count": 190,
   "metadata": {},
   "outputs": [
    {
     "name": "stdout",
     "output_type": "stream",
     "text": [
      "[nltk_data] Downloading package stopwords to /Users/Xiao/nltk_data...\n",
      "[nltk_data]   Package stopwords is already up-to-date!\n"
     ]
    },
    {
     "data": {
      "text/plain": [
       "True"
      ]
     },
     "execution_count": 190,
     "metadata": {},
     "output_type": "execute_result"
    }
   ],
   "source": [
    "nltk.download('stopwords')"
   ]
  },
  {
   "cell_type": "code",
   "execution_count": 191,
   "metadata": {},
   "outputs": [
    {
     "name": "stdout",
     "output_type": "stream",
     "text": [
      "[nltk_data] Downloading package wordnet to /Users/Xiao/nltk_data...\n",
      "[nltk_data]   Package wordnet is already up-to-date!\n"
     ]
    },
    {
     "data": {
      "text/plain": [
       "True"
      ]
     },
     "execution_count": 191,
     "metadata": {},
     "output_type": "execute_result"
    }
   ],
   "source": [
    "nltk.download('wordnet')"
   ]
  },
  {
   "cell_type": "code",
   "execution_count": 8,
   "metadata": {},
   "outputs": [
    {
     "data": {
      "text/plain": [
       "'0123456789'"
      ]
     },
     "execution_count": 8,
     "metadata": {},
     "output_type": "execute_result"
    }
   ],
   "source": [
    "import string\n",
    "string.digits"
   ]
  },
  {
   "cell_type": "code",
   "execution_count": 9,
   "metadata": {},
   "outputs": [],
   "source": [
    "nyc_desc.descriptions = nyc_desc.descriptions.apply(lambda x: x.translate(str.maketrans('','','1234567890')))"
   ]
  },
  {
   "cell_type": "code",
   "execution_count": 10,
   "metadata": {},
   "outputs": [
    {
     "data": {
      "text/html": [
       "<div>\n",
       "<style scoped>\n",
       "    .dataframe tbody tr th:only-of-type {\n",
       "        vertical-align: middle;\n",
       "    }\n",
       "\n",
       "    .dataframe tbody tr th {\n",
       "        vertical-align: top;\n",
       "    }\n",
       "\n",
       "    .dataframe thead th {\n",
       "        text-align: right;\n",
       "    }\n",
       "</style>\n",
       "<table border=\"1\" class=\"dataframe\">\n",
       "  <thead>\n",
       "    <tr style=\"text-align: right;\">\n",
       "      <th></th>\n",
       "      <th>descriptions</th>\n",
       "    </tr>\n",
       "  </thead>\n",
       "  <tbody>\n",
       "    <tr>\n",
       "      <th>11820</th>\n",
       "      <td>Hello, My listing is located a block away from...</td>\n",
       "    </tr>\n",
       "    <tr>\n",
       "      <th>11821</th>\n",
       "      <td>Beautifully lit, newly renovated  bedroom apar...</td>\n",
       "    </tr>\n",
       "    <tr>\n",
       "      <th>11822</th>\n",
       "      <td>You will adore this sunny, lovely, and fully e...</td>\n",
       "    </tr>\n",
       "    <tr>\n",
       "      <th>11823</th>\n",
       "      <td>Hello! Clean, renovated room,  mins away from ...</td>\n",
       "    </tr>\n",
       "    <tr>\n",
       "      <th>11824</th>\n",
       "      <td>Charming, cozy atmosphere The whole bottom flo...</td>\n",
       "    </tr>\n",
       "  </tbody>\n",
       "</table>\n",
       "</div>"
      ],
      "text/plain": [
       "                                            descriptions\n",
       "11820  Hello, My listing is located a block away from...\n",
       "11821  Beautifully lit, newly renovated  bedroom apar...\n",
       "11822  You will adore this sunny, lovely, and fully e...\n",
       "11823  Hello! Clean, renovated room,  mins away from ...\n",
       "11824  Charming, cozy atmosphere The whole bottom flo..."
      ]
     },
     "execution_count": 10,
     "metadata": {},
     "output_type": "execute_result"
    }
   ],
   "source": [
    "nyc_desc.tail()"
   ]
  },
  {
   "cell_type": "code",
   "execution_count": 11,
   "metadata": {},
   "outputs": [],
   "source": [
    "nlp_feats = ['descriptions']\n",
    "corpus = nyc_desc[nlp_feats]"
   ]
  },
  {
   "cell_type": "code",
   "execution_count": 40,
   "metadata": {},
   "outputs": [],
   "source": [
    "def preprocess_text(corpus):\n",
    "    \"\"\"Takes a corpus in list format and applies basic preprocessing steps of word tokenization,\n",
    "     removing of english stop words, lower case and lemmatization.\"\"\"\n",
    "    processed_corpus = []\n",
    "    \n",
    "    english_words = set(nltk.corpus.words.words())\n",
    "    customized_set = {'one','two','three','four','five','six','seven','eight','nine','ten','also', 'new','york'}\n",
    "    customized_stopwords = set(stopwords.words('english'))| customized_set\n",
    "    \n",
    "    wordnet_lemmatizer = WordNetLemmatizer()\n",
    "    tokenizer = RegexpTokenizer(r'[\\w|!]+')\n",
    "    for row in corpus:\n",
    "        word_tokens = tokenizer.tokenize(row)\n",
    "        word_tokens_lower = [t.lower() for t in word_tokens]\n",
    "        word_tokens_lower_english = [t for t in word_tokens_lower if t in english_words or not t.isalpha()]\n",
    "        word_tokens_no_stops = [t for t in word_tokens_lower_english if not t in customized_stopwords]\n",
    "        word_tokens_no_stops_lemmatized = [wordnet_lemmatizer.lemmatize(t) for t in word_tokens_no_stops]\n",
    "        processed_corpus.append(word_tokens_no_stops_lemmatized)\n",
    "    return processed_corpus"
   ]
  },
  {
   "cell_type": "code",
   "execution_count": 41,
   "metadata": {},
   "outputs": [],
   "source": [
    "def nlp_model_pipeline(processed_corpus):\n",
    "    \"\"\"Takes processed corpus and produce dictionary, doc_term_matrix and LDA model\"\"\"\n",
    "    # Creates the term dictionary (every unique term in corpus is assigned an index)\n",
    "    dictionary = Dictionary(processed_corpus)\n",
    "    # Convert corpus into Document Term Matrix using dictionary prepared above\n",
    "    doc_term_matrix = [dictionary.doc2bow(listing) for listing in processed_corpus]    \n",
    "    return dictionary, doc_term_matrix"
   ]
  },
  {
   "cell_type": "code",
   "execution_count": 42,
   "metadata": {},
   "outputs": [],
   "source": [
    "\n",
    "def LDA_topic_modelling(doc_term_matrix, dictionary, num_topics=3, passes=2):\n",
    "    # Create an object for LDA model and train it on Document-Term-Matrix\n",
    "    LDA = LdaModel\n",
    "    ldamodel = LDA(doc_term_matrix, num_topics=num_topics, id2word = dictionary, passes=passes)\n",
    "    return ldamodel"
   ]
  },
  {
   "cell_type": "code",
   "execution_count": 43,
   "metadata": {},
   "outputs": [],
   "source": [
    "def add_topics_to_df(ldamodel, doc_term_matrix, df, num_topics):\n",
    "    # Convert into Per-document topic probability matrix:\n",
    "    docTopicProbMat = ldamodel[doc_term_matrix]\n",
    "    docTopicProbDf = pd.DataFrame(index=df.index, columns=range(0, num_topics))\n",
    "    for i, doc in enumerate(docTopicProbMat):\n",
    "        for topic in doc:\n",
    "            docTopicProbDf.iloc[i, topic[0]] = topic[1]\n",
    "    docTopicProbDf = docTopicProbDf.astype('float64')\n",
    "    topic = docTopicProbDf.idxmax(axis=1)\n",
    "    # Merge with df\n",
    "    return topic"
   ]
  },
  {
   "cell_type": "code",
   "execution_count": 44,
   "metadata": {
    "scrolled": true
   },
   "outputs": [
    {
     "data": {
      "text/html": [
       "<div>\n",
       "<style scoped>\n",
       "    .dataframe tbody tr th:only-of-type {\n",
       "        vertical-align: middle;\n",
       "    }\n",
       "\n",
       "    .dataframe tbody tr th {\n",
       "        vertical-align: top;\n",
       "    }\n",
       "\n",
       "    .dataframe thead th {\n",
       "        text-align: right;\n",
       "    }\n",
       "</style>\n",
       "<table border=\"1\" class=\"dataframe\">\n",
       "  <thead>\n",
       "    <tr style=\"text-align: right;\">\n",
       "      <th></th>\n",
       "      <th>descriptions</th>\n",
       "    </tr>\n",
       "  </thead>\n",
       "  <tbody>\n",
       "    <tr>\n",
       "      <th>1</th>\n",
       "      <td>Step into our artistic spacious apartment and ...</td>\n",
       "    </tr>\n",
       "    <tr>\n",
       "      <th>2</th>\n",
       "      <td>An adorable, classic, clean, light-filled one-...</td>\n",
       "    </tr>\n",
       "    <tr>\n",
       "      <th>3</th>\n",
       "      <td>This is a spacious, clean, furnished master be...</td>\n",
       "    </tr>\n",
       "    <tr>\n",
       "      <th>4</th>\n",
       "      <td>Make your NY story in our welcoming, home away...</td>\n",
       "    </tr>\n",
       "    <tr>\n",
       "      <th>5</th>\n",
       "      <td>Urban retreat: enjoy  s.f. floor in  brownston...</td>\n",
       "    </tr>\n",
       "    <tr>\n",
       "      <th>6</th>\n",
       "      <td>BR apartment, with  kitchen,  bathroom and wo...</td>\n",
       "    </tr>\n",
       "    <tr>\n",
       "      <th>7</th>\n",
       "      <td>This listing is NO LONGER active.  ___________...</td>\n",
       "    </tr>\n",
       "    <tr>\n",
       "      <th>8</th>\n",
       "      <td>A beautiful home away from home for your stay ...</td>\n",
       "    </tr>\n",
       "    <tr>\n",
       "      <th>9</th>\n",
       "      <td>Please don’t expect the luxury here just a bas...</td>\n",
       "    </tr>\n",
       "    <tr>\n",
       "      <th>10</th>\n",
       "      <td>Ask about discounts for January to March!  Ren...</td>\n",
       "    </tr>\n",
       "    <tr>\n",
       "      <th>11</th>\n",
       "      <td>Beautiful  Bedroom Apartment, Great for Groups...</td>\n",
       "    </tr>\n",
       "    <tr>\n",
       "      <th>12</th>\n",
       "      <td>Live like a New Yorker instead of a stuffy, ti...</td>\n",
       "    </tr>\n",
       "    <tr>\n",
       "      <th>13</th>\n",
       "      <td>Great, fun, comfortable loft apartment, fantas...</td>\n",
       "    </tr>\n",
       "    <tr>\n",
       "      <th>14</th>\n",
       "      <td>rent a room in a brick house rather than just ...</td>\n",
       "    </tr>\n",
       "    <tr>\n",
       "      <th>15</th>\n",
       "      <td>Freshly painted, bright open space! Excellent ...</td>\n",
       "    </tr>\n",
       "    <tr>\n",
       "      <th>16</th>\n",
       "      <td>A great location and super quiet apartment in ...</td>\n",
       "    </tr>\n",
       "    <tr>\n",
       "      <th>17</th>\n",
       "      <td>Meander down our beautiful tree lined street u...</td>\n",
       "    </tr>\n",
       "    <tr>\n",
       "      <th>18</th>\n",
       "      <td>Bright one bed room apartment in south Park Sl...</td>\n",
       "    </tr>\n",
       "    <tr>\n",
       "      <th>19</th>\n",
       "      <td>Sweet family home right in the heart of Willia...</td>\n",
       "    </tr>\n",
       "    <tr>\n",
       "      <th>20</th>\n",
       "      <td>Our clean, quiet two bedroom apartment is very...</td>\n",
       "    </tr>\n",
       "    <tr>\n",
       "      <th>21</th>\n",
       "      <td>Step into our artistic spacious apartment and ...</td>\n",
       "    </tr>\n",
       "    <tr>\n",
       "      <th>22</th>\n",
       "      <td>th Cent Brownstone, Friendly building Excellen...</td>\n",
       "    </tr>\n",
       "    <tr>\n",
       "      <th>23</th>\n",
       "      <td>Create a memorable vacation or business trip b...</td>\n",
       "    </tr>\n",
       "    <tr>\n",
       "      <th>24</th>\n",
       "      <td>Just renovated sun drenched bedroom in a quiet...</td>\n",
       "    </tr>\n",
       "    <tr>\n",
       "      <th>25</th>\n",
       "      <td>Welcome to Bushwick, Brooklyn!  Welcome to Rid...</td>\n",
       "    </tr>\n",
       "    <tr>\n",
       "      <th>26</th>\n",
       "      <td>this th floor apartment in a brownstone is rea...</td>\n",
       "    </tr>\n",
       "    <tr>\n",
       "      <th>27</th>\n",
       "      <td>Private Rooms for Rent (Phone number hidden by...</td>\n",
       "    </tr>\n",
       "    <tr>\n",
       "      <th>28</th>\n",
       "      <td>Spacious, sunny and very quiet studio with exp...</td>\n",
       "    </tr>\n",
       "    <tr>\n",
       "      <th>29</th>\n",
       "      <td>Great location. Beautiful space. -star reviews...</td>\n",
       "    </tr>\n",
       "    <tr>\n",
       "      <th>30</th>\n",
       "      <td>This huge one bedroom apartment is located on ...</td>\n",
       "    </tr>\n",
       "    <tr>\n",
       "      <th>...</th>\n",
       "      <td>...</td>\n",
       "    </tr>\n",
       "    <tr>\n",
       "      <th>11795</th>\n",
       "      <td>High wood paneled ceilings and lofted beds mak...</td>\n",
       "    </tr>\n",
       "    <tr>\n",
       "      <th>11796</th>\n",
       "      <td>Great and Cozy apartment in Brooklyn, close to...</td>\n",
       "    </tr>\n",
       "    <tr>\n",
       "      <th>11797</th>\n",
       "      <td>Right next to the Javits Center and a couple o...</td>\n",
       "    </tr>\n",
       "    <tr>\n",
       "      <th>11798</th>\n",
       "      <td>Big private room and bathroom for guests. Very...</td>\n",
       "    </tr>\n",
       "    <tr>\n",
       "      <th>11799</th>\n",
       "      <td>This is a great spacious apartment located jus...</td>\n",
       "    </tr>\n",
       "    <tr>\n",
       "      <th>11800</th>\n",
       "      <td>安静的,安全的社区,交通便利,干净的环境给你温馨的感觉｡Quiet, safe commun...</td>\n",
       "    </tr>\n",
       "    <tr>\n",
       "      <th>11801</th>\n",
       "      <td>This charming BR apartment is right in the mid...</td>\n",
       "    </tr>\n",
       "    <tr>\n",
       "      <th>11802</th>\n",
       "      <td>Cozy two bedroom off canal and Mott and near t...</td>\n",
       "    </tr>\n",
       "    <tr>\n",
       "      <th>11803</th>\n",
       "      <td>A very cozy, spacious, simplistic South Slope/...</td>\n",
       "    </tr>\n",
       "    <tr>\n",
       "      <th>11804</th>\n",
       "      <td>Huge one bedroom in a prime location on Fifth ...</td>\n",
       "    </tr>\n",
       "    <tr>\n",
       "      <th>11805</th>\n",
       "      <td>Gorgeous, comfortable and clean apartment. Ide...</td>\n",
       "    </tr>\n",
       "    <tr>\n",
       "      <th>11806</th>\n",
       "      <td>Shared studio with me! The house is near the  ...</td>\n",
       "    </tr>\n",
       "    <tr>\n",
       "      <th>11807</th>\n",
       "      <td>Private room in  bed,  bathroom unit.  Furnish...</td>\n",
       "    </tr>\n",
       "    <tr>\n",
       "      <th>11808</th>\n",
       "      <td>Cozy private room in a modern, airy apartment ...</td>\n",
       "    </tr>\n",
       "    <tr>\n",
       "      <th>11809</th>\n",
       "      <td>This newly renovated modern duplex with a pati...</td>\n",
       "    </tr>\n",
       "    <tr>\n",
       "      <th>11810</th>\n",
       "      <td>Brooklyn's Best Spacious Gorgeous room. So ide...</td>\n",
       "    </tr>\n",
       "    <tr>\n",
       "      <th>11811</th>\n",
       "      <td>Experience a mix of artistic and industrial in...</td>\n",
       "    </tr>\n",
       "    <tr>\n",
       "      <th>11812</th>\n",
       "      <td>I am excited to share an affordable, safe and ...</td>\n",
       "    </tr>\n",
       "    <tr>\n",
       "      <th>11813</th>\n",
       "      <td>Great friendly apartment with a spare room wai...</td>\n",
       "    </tr>\n",
       "    <tr>\n",
       "      <th>11814</th>\n",
       "      <td>Located right off Hudson Yards, in the heart o...</td>\n",
       "    </tr>\n",
       "    <tr>\n",
       "      <th>11815</th>\n",
       "      <td>friendly and quiet space, near to JFK airport ...</td>\n",
       "    </tr>\n",
       "    <tr>\n",
       "      <th>11816</th>\n",
       "      <td>Cozy, one bedroom Bronx apartment Near subways...</td>\n",
       "    </tr>\n",
       "    <tr>\n",
       "      <th>11817</th>\n",
       "      <td>Private studio in a newly renovated constructi...</td>\n",
       "    </tr>\n",
       "    <tr>\n",
       "      <th>11818</th>\n",
       "      <td>Lovely spacious,  bedroom,  bathroom, opened k...</td>\n",
       "    </tr>\n",
       "    <tr>\n",
       "      <th>11819</th>\n",
       "      <td>Lovely  bedroom apartment located in the heart...</td>\n",
       "    </tr>\n",
       "    <tr>\n",
       "      <th>11820</th>\n",
       "      <td>Hello, My listing is located a block away from...</td>\n",
       "    </tr>\n",
       "    <tr>\n",
       "      <th>11821</th>\n",
       "      <td>Beautifully lit, newly renovated  bedroom apar...</td>\n",
       "    </tr>\n",
       "    <tr>\n",
       "      <th>11822</th>\n",
       "      <td>You will adore this sunny, lovely, and fully e...</td>\n",
       "    </tr>\n",
       "    <tr>\n",
       "      <th>11823</th>\n",
       "      <td>Hello! Clean, renovated room,  mins away from ...</td>\n",
       "    </tr>\n",
       "    <tr>\n",
       "      <th>11824</th>\n",
       "      <td>Charming, cozy atmosphere The whole bottom flo...</td>\n",
       "    </tr>\n",
       "  </tbody>\n",
       "</table>\n",
       "<p>11824 rows × 1 columns</p>\n",
       "</div>"
      ],
      "text/plain": [
       "                                            descriptions\n",
       "1      Step into our artistic spacious apartment and ...\n",
       "2      An adorable, classic, clean, light-filled one-...\n",
       "3      This is a spacious, clean, furnished master be...\n",
       "4      Make your NY story in our welcoming, home away...\n",
       "5      Urban retreat: enjoy  s.f. floor in  brownston...\n",
       "6       BR apartment, with  kitchen,  bathroom and wo...\n",
       "7      This listing is NO LONGER active.  ___________...\n",
       "8      A beautiful home away from home for your stay ...\n",
       "9      Please don’t expect the luxury here just a bas...\n",
       "10     Ask about discounts for January to March!  Ren...\n",
       "11     Beautiful  Bedroom Apartment, Great for Groups...\n",
       "12     Live like a New Yorker instead of a stuffy, ti...\n",
       "13     Great, fun, comfortable loft apartment, fantas...\n",
       "14     rent a room in a brick house rather than just ...\n",
       "15     Freshly painted, bright open space! Excellent ...\n",
       "16     A great location and super quiet apartment in ...\n",
       "17     Meander down our beautiful tree lined street u...\n",
       "18     Bright one bed room apartment in south Park Sl...\n",
       "19     Sweet family home right in the heart of Willia...\n",
       "20     Our clean, quiet two bedroom apartment is very...\n",
       "21     Step into our artistic spacious apartment and ...\n",
       "22     th Cent Brownstone, Friendly building Excellen...\n",
       "23     Create a memorable vacation or business trip b...\n",
       "24     Just renovated sun drenched bedroom in a quiet...\n",
       "25     Welcome to Bushwick, Brooklyn!  Welcome to Rid...\n",
       "26     this th floor apartment in a brownstone is rea...\n",
       "27     Private Rooms for Rent (Phone number hidden by...\n",
       "28     Spacious, sunny and very quiet studio with exp...\n",
       "29     Great location. Beautiful space. -star reviews...\n",
       "30     This huge one bedroom apartment is located on ...\n",
       "...                                                  ...\n",
       "11795  High wood paneled ceilings and lofted beds mak...\n",
       "11796  Great and Cozy apartment in Brooklyn, close to...\n",
       "11797  Right next to the Javits Center and a couple o...\n",
       "11798  Big private room and bathroom for guests. Very...\n",
       "11799  This is a great spacious apartment located jus...\n",
       "11800  安静的,安全的社区,交通便利,干净的环境给你温馨的感觉｡Quiet, safe commun...\n",
       "11801  This charming BR apartment is right in the mid...\n",
       "11802  Cozy two bedroom off canal and Mott and near t...\n",
       "11803  A very cozy, spacious, simplistic South Slope/...\n",
       "11804  Huge one bedroom in a prime location on Fifth ...\n",
       "11805  Gorgeous, comfortable and clean apartment. Ide...\n",
       "11806  Shared studio with me! The house is near the  ...\n",
       "11807  Private room in  bed,  bathroom unit.  Furnish...\n",
       "11808  Cozy private room in a modern, airy apartment ...\n",
       "11809  This newly renovated modern duplex with a pati...\n",
       "11810  Brooklyn's Best Spacious Gorgeous room. So ide...\n",
       "11811  Experience a mix of artistic and industrial in...\n",
       "11812  I am excited to share an affordable, safe and ...\n",
       "11813  Great friendly apartment with a spare room wai...\n",
       "11814  Located right off Hudson Yards, in the heart o...\n",
       "11815  friendly and quiet space, near to JFK airport ...\n",
       "11816  Cozy, one bedroom Bronx apartment Near subways...\n",
       "11817  Private studio in a newly renovated constructi...\n",
       "11818  Lovely spacious,  bedroom,  bathroom, opened k...\n",
       "11819  Lovely  bedroom apartment located in the heart...\n",
       "11820  Hello, My listing is located a block away from...\n",
       "11821  Beautifully lit, newly renovated  bedroom apar...\n",
       "11822  You will adore this sunny, lovely, and fully e...\n",
       "11823  Hello! Clean, renovated room,  mins away from ...\n",
       "11824  Charming, cozy atmosphere The whole bottom flo...\n",
       "\n",
       "[11824 rows x 1 columns]"
      ]
     },
     "execution_count": 44,
     "metadata": {},
     "output_type": "execute_result"
    }
   ],
   "source": [
    "corpus"
   ]
  },
  {
   "cell_type": "code",
   "execution_count": 45,
   "metadata": {},
   "outputs": [],
   "source": [
    "corpus_description = corpus['descriptions'].astype(str)"
   ]
  },
  {
   "cell_type": "code",
   "execution_count": 46,
   "metadata": {},
   "outputs": [],
   "source": [
    "processed_corpus_description = preprocess_text(corpus_description)"
   ]
  },
  {
   "cell_type": "code",
   "execution_count": 47,
   "metadata": {},
   "outputs": [],
   "source": [
    "dictionary_description, doc_term_matrix_description = nlp_model_pipeline(processed_corpus_description)"
   ]
  },
  {
   "cell_type": "code",
   "execution_count": 48,
   "metadata": {},
   "outputs": [],
   "source": [
    "ldamodel_description = LDA_topic_modelling(doc_term_matrix_description, dictionary_description, num_topics=3, passes=1)"
   ]
  },
  {
   "cell_type": "code",
   "execution_count": 53,
   "metadata": {
    "scrolled": false
   },
   "outputs": [
    {
     "name": "stderr",
     "output_type": "stream",
     "text": [
      "/Users/Xiao/anaconda3/lib/python3.6/site-packages/pyLDAvis/_prepare.py:257: FutureWarning: Sorting because non-concatenation axis is not aligned. A future version\n",
      "of pandas will change to not sort by default.\n",
      "\n",
      "To accept the future behavior, pass 'sort=False'.\n",
      "\n",
      "To retain the current behavior and silence the warning, pass 'sort=True'.\n",
      "\n",
      "  return pd.concat([default_term_info] + list(topic_dfs))\n"
     ]
    }
   ],
   "source": [
    "p = pyLDAvis.gensim.prepare(ldamodel_description, doc_term_matrix_description, dictionary_description)"
   ]
  },
  {
   "cell_type": "code",
   "execution_count": null,
   "metadata": {},
   "outputs": [],
   "source": [
    "# 1 luxury 2 budget  3 location"
   ]
  },
  {
   "cell_type": "code",
   "execution_count": 55,
   "metadata": {},
   "outputs": [],
   "source": [
    "pyLDAvis.save_html(p, '/Users/Xiao/Documents/lda.html')"
   ]
  },
  {
   "cell_type": "code",
   "execution_count": 50,
   "metadata": {},
   "outputs": [],
   "source": [
    "new_df = add_topics_to_df(ldamodel_description, doc_term_matrix_description,nyc_desc, num_topics=3)"
   ]
  },
  {
   "cell_type": "code",
   "execution_count": 51,
   "metadata": {
    "scrolled": true
   },
   "outputs": [
    {
     "name": "stderr",
     "output_type": "stream",
     "text": [
      "/Users/Xiao/anaconda3/lib/python3.6/site-packages/ipykernel_launcher.py:1: FutureWarning: The signature of `Series.to_csv` was aligned to that of `DataFrame.to_csv`, and argument 'header' will change its default value from False to True: please pass an explicit value to suppress this warning.\n",
      "  \"\"\"Entry point for launching an IPython kernel.\n"
     ]
    }
   ],
   "source": [
    "new_df.to_csv(\"/Users/Xiao/Documents/nyc_topic.csv\")"
   ]
  }
 ],
 "metadata": {
  "kernelspec": {
   "display_name": "Python 3",
   "language": "python",
   "name": "python3"
  },
  "language_info": {
   "codemirror_mode": {
    "name": "ipython",
    "version": 3
   },
   "file_extension": ".py",
   "mimetype": "text/x-python",
   "name": "python",
   "nbconvert_exporter": "python",
   "pygments_lexer": "ipython3",
   "version": "3.6.8"
  }
 },
 "nbformat": 4,
 "nbformat_minor": 2
}
