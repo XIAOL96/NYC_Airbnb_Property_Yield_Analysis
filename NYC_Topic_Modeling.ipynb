{
 "cells": [
  {
   "cell_type": "code",
   "execution_count": 2,
   "metadata": {},
   "outputs": [],
   "source": [
    "import pandas as pd"
   ]
  },
  {
   "cell_type": "code",
   "execution_count": 1,
   "metadata": {},
   "outputs": [],
   "source": [
    "nyc_desc = pd.read_csv('/Users/Xiao/Documents/nyc_desc.csv', header=0, index_col=0)"
   ]
  },
  {
   "cell_type": "code",
   "execution_count": 3,
   "metadata": {
    "scrolled": true
   },
   "outputs": [
    {
     "data": {
      "text/plain": [
       "1        Step into our artistic spacious apartment and ...\n",
       "2        An adorable, classic, clean, light-filled one-...\n",
       "3        This is a spacious, clean, furnished master be...\n",
       "4        Make your NY story in our welcoming, home away...\n",
       "5        Urban retreat: enjoy 500 s.f. floor in 1899 br...\n",
       "6        2 BR apartment, with 1 kitchen, 1 bathroom and...\n",
       "7        This listing is NO LONGER active.  ___________...\n",
       "8        A beautiful home away from home for your stay ...\n",
       "9        Please don’t expect the luxury here just a bas...\n",
       "10       Ask about discounts for January to March!  Ren...\n",
       "11       Beautiful 2 Bedroom Apartment, Great for Group...\n",
       "12       Live like a New Yorker instead of a stuffy, ti...\n",
       "13       Great, fun, comfortable loft apartment, fantas...\n",
       "14       rent a room in a brick house rather than just ...\n",
       "15       Freshly painted, bright open space! Excellent ...\n",
       "16       A great location and super quiet apartment in ...\n",
       "17       Meander down our beautiful tree lined street u...\n",
       "18       Bright one bed room apartment in south Park Sl...\n",
       "19       Sweet family home right in the heart of Willia...\n",
       "20       Our clean, quiet two bedroom apartment is very...\n",
       "21       Step into our artistic spacious apartment and ...\n",
       "22       19th Cent Brownstone, Friendly building Excell...\n",
       "23       Create a memorable vacation or business trip b...\n",
       "24       Just renovated sun drenched bedroom in a quiet...\n",
       "25       Welcome to Bushwick, Brooklyn!  Welcome to Rid...\n",
       "26       this 5th floor apartment in a brownstone is re...\n",
       "27       Private Rooms for Rent (Phone number hidden by...\n",
       "28       Spacious, sunny and very quiet studio with exp...\n",
       "29       Great location. Beautiful space. 5-star review...\n",
       "30       This huge one bedroom apartment is located on ...\n",
       "                               ...                        \n",
       "11795    High wood paneled ceilings and lofted beds mak...\n",
       "11796    Great and Cozy apartment in Brooklyn, close to...\n",
       "11797    Right next to the Javits Center and a couple o...\n",
       "11798    Big private room and bathroom for guests. Very...\n",
       "11799    This is a great spacious apartment located jus...\n",
       "11800    安静的,安全的社区,交通便利,干净的环境给你温馨的感觉｡Quiet, safe commun...\n",
       "11801    This charming 3BR apartment is right in the mi...\n",
       "11802    Cozy two bedroom off canal and Mott and near t...\n",
       "11803    A very cozy, spacious, simplistic South Slope/...\n",
       "11804    Huge one bedroom in a prime location on Fifth ...\n",
       "11805    Gorgeous, comfortable and clean apartment. Ide...\n",
       "11806    Shared studio with me! The house is near the 4...\n",
       "11807    Private room in 4 bed, 2 bathroom unit.  Furni...\n",
       "11808    Cozy private room in a modern, airy apartment ...\n",
       "11809    This newly renovated modern duplex with a pati...\n",
       "11810    Brooklyn's Best Spacious Gorgeous room. So ide...\n",
       "11811    Experience a mix of artistic and industrial in...\n",
       "11812    I am excited to share an affordable, safe and ...\n",
       "11813    Great friendly apartment with a spare room wai...\n",
       "11814    Located right off Hudson Yards, in the heart o...\n",
       "11815    friendly and quiet space, near to JFK airport ...\n",
       "11816    Cozy, one bedroom Bronx apartment Near subways...\n",
       "11817    Private studio in a newly renovated constructi...\n",
       "11818    Lovely spacious, 1 bedroom, 1 bathroom, opened...\n",
       "11819    Lovely 1 bedroom apartment located in the hear...\n",
       "11820    Hello, My listing is located a block away from...\n",
       "11821    Beautifully lit, newly renovated 2 bedroom apa...\n",
       "11822    You will adore this sunny, lovely, and fully e...\n",
       "11823    Hello! Clean, renovated room, 33 mins away fro...\n",
       "11824    Charming, cozy atmosphere The whole bottom flo...\n",
       "Name: descriptions, Length: 11824, dtype: object"
      ]
     },
     "execution_count": 3,
     "metadata": {},
     "output_type": "execute_result"
    }
   ],
   "source": [
    "nyc_desc['descriptions']"
   ]
  },
  {
   "cell_type": "code",
   "execution_count": 4,
   "metadata": {},
   "outputs": [
    {
     "data": {
      "text/plain": [
       "(11824, 1)"
      ]
     },
     "execution_count": 4,
     "metadata": {},
     "output_type": "execute_result"
    }
   ],
   "source": [
    "nyc_desc.shape"
   ]
  },
  {
   "cell_type": "code",
   "execution_count": 5,
   "metadata": {},
   "outputs": [],
   "source": [
    "import nltk"
   ]
  },
  {
   "cell_type": "code",
   "execution_count": 6,
   "metadata": {},
   "outputs": [],
   "source": [
    "import gensim\n",
    "from nltk import word_tokenize\n",
    "from nltk.tokenize import RegexpTokenizer\n",
    "from nltk.corpus import stopwords\n",
    "from nltk.stem import WordNetLemmatizer\n",
    "\n",
    "from gensim.corpora.dictionary import Dictionary\n",
    "from gensim.models.tfidfmodel import TfidfModel\n",
    "from gensim.models.ldamodel import LdaModel\n",
    "\n",
    "import itertools\n",
    "from collections import Counter\n",
    "from collections import defaultdict\n",
    "\n",
    "import json\n"
   ]
  },
  {
   "cell_type": "code",
   "execution_count": 7,
   "metadata": {},
   "outputs": [],
   "source": [
    "import pyLDAvis.gensim\n",
    "pyLDAvis.enable_notebook()"
   ]
  },
  {
   "cell_type": "code",
   "execution_count": 189,
   "metadata": {},
   "outputs": [
    {
     "name": "stdout",
     "output_type": "stream",
     "text": [
      "[nltk_data] Downloading package words to /Users/Xiao/nltk_data...\n",
      "[nltk_data]   Package words is already up-to-date!\n"
     ]
    },
    {
     "data": {
      "text/plain": [
       "True"
      ]
     },
     "execution_count": 189,
     "metadata": {},
     "output_type": "execute_result"
    }
   ],
   "source": [
    "nltk.download('words')"
   ]
  },
  {
   "cell_type": "code",
   "execution_count": 190,
   "metadata": {},
   "outputs": [
    {
     "name": "stdout",
     "output_type": "stream",
     "text": [
      "[nltk_data] Downloading package stopwords to /Users/Xiao/nltk_data...\n",
      "[nltk_data]   Package stopwords is already up-to-date!\n"
     ]
    },
    {
     "data": {
      "text/plain": [
       "True"
      ]
     },
     "execution_count": 190,
     "metadata": {},
     "output_type": "execute_result"
    }
   ],
   "source": [
    "nltk.download('stopwords')"
   ]
  },
  {
   "cell_type": "code",
   "execution_count": 191,
   "metadata": {},
   "outputs": [
    {
     "name": "stdout",
     "output_type": "stream",
     "text": [
      "[nltk_data] Downloading package wordnet to /Users/Xiao/nltk_data...\n",
      "[nltk_data]   Package wordnet is already up-to-date!\n"
     ]
    },
    {
     "data": {
      "text/plain": [
       "True"
      ]
     },
     "execution_count": 191,
     "metadata": {},
     "output_type": "execute_result"
    }
   ],
   "source": [
    "nltk.download('wordnet')"
   ]
  },
  {
   "cell_type": "code",
   "execution_count": 8,
   "metadata": {},
   "outputs": [
    {
     "data": {
      "text/plain": [
       "'0123456789'"
      ]
     },
     "execution_count": 8,
     "metadata": {},
     "output_type": "execute_result"
    }
   ],
   "source": [
    "import string\n",
    "string.digits"
   ]
  },
  {
   "cell_type": "code",
   "execution_count": 9,
   "metadata": {},
   "outputs": [],
   "source": [
    "nyc_desc.descriptions = nyc_desc.descriptions.apply(lambda x: x.translate(str.maketrans('','','1234567890')))"
   ]
  },
  {
   "cell_type": "code",
   "execution_count": 10,
   "metadata": {},
   "outputs": [
    {
     "data": {
      "text/html": [
       "<div>\n",
       "<style scoped>\n",
       "    .dataframe tbody tr th:only-of-type {\n",
       "        vertical-align: middle;\n",
       "    }\n",
       "\n",
       "    .dataframe tbody tr th {\n",
       "        vertical-align: top;\n",
       "    }\n",
       "\n",
       "    .dataframe thead th {\n",
       "        text-align: right;\n",
       "    }\n",
       "</style>\n",
       "<table border=\"1\" class=\"dataframe\">\n",
       "  <thead>\n",
       "    <tr style=\"text-align: right;\">\n",
       "      <th></th>\n",
       "      <th>descriptions</th>\n",
       "    </tr>\n",
       "  </thead>\n",
       "  <tbody>\n",
       "    <tr>\n",
       "      <th>11820</th>\n",
       "      <td>Hello, My listing is located a block away from...</td>\n",
       "    </tr>\n",
       "    <tr>\n",
       "      <th>11821</th>\n",
       "      <td>Beautifully lit, newly renovated  bedroom apar...</td>\n",
       "    </tr>\n",
       "    <tr>\n",
       "      <th>11822</th>\n",
       "      <td>You will adore this sunny, lovely, and fully e...</td>\n",
       "    </tr>\n",
       "    <tr>\n",
       "      <th>11823</th>\n",
       "      <td>Hello! Clean, renovated room,  mins away from ...</td>\n",
       "    </tr>\n",
       "    <tr>\n",
       "      <th>11824</th>\n",
       "      <td>Charming, cozy atmosphere The whole bottom flo...</td>\n",
       "    </tr>\n",
       "  </tbody>\n",
       "</table>\n",
       "</div>"
      ],
      "text/plain": [
       "                                            descriptions\n",
       "11820  Hello, My listing is located a block away from...\n",
       "11821  Beautifully lit, newly renovated  bedroom apar...\n",
       "11822  You will adore this sunny, lovely, and fully e...\n",
       "11823  Hello! Clean, renovated room,  mins away from ...\n",
       "11824  Charming, cozy atmosphere The whole bottom flo..."
      ]
     },
     "execution_count": 10,
     "metadata": {},
     "output_type": "execute_result"
    }
   ],
   "source": [
    "nyc_desc.tail()"
   ]
  },
  {
   "cell_type": "code",
   "execution_count": 11,
   "metadata": {},
   "outputs": [],
   "source": [
    "nlp_feats = ['descriptions']\n",
    "corpus = nyc_desc[nlp_feats]"
   ]
  },
  {
   "cell_type": "code",
   "execution_count": 40,
   "metadata": {},
   "outputs": [],
   "source": [
    "def preprocess_text(corpus):\n",
    "    \"\"\"Takes a corpus in list format and applies basic preprocessing steps of word tokenization,\n",
    "     removing of english stop words, lower case and lemmatization.\"\"\"\n",
    "    processed_corpus = []\n",
    "    \n",
    "    english_words = set(nltk.corpus.words.words())\n",
    "    customized_set = {'one','two','three','four','five','six','seven','eight','nine','ten','also', 'new','york'}\n",
    "    customized_stopwords = set(stopwords.words('english'))| customized_set\n",
    "    \n",
    "    wordnet_lemmatizer = WordNetLemmatizer()\n",
    "    tokenizer = RegexpTokenizer(r'[\\w|!]+')\n",
    "    for row in corpus:\n",
    "        word_tokens = tokenizer.tokenize(row)\n",
    "        word_tokens_lower = [t.lower() for t in word_tokens]\n",
    "        word_tokens_lower_english = [t for t in word_tokens_lower if t in english_words or not t.isalpha()]\n",
    "        word_tokens_no_stops = [t for t in word_tokens_lower_english if not t in customized_stopwords]\n",
    "        word_tokens_no_stops_lemmatized = [wordnet_lemmatizer.lemmatize(t) for t in word_tokens_no_stops]\n",
    "        processed_corpus.append(word_tokens_no_stops_lemmatized)\n",
    "    return processed_corpus"
   ]
  },
  {
   "cell_type": "code",
   "execution_count": 41,
   "metadata": {},
   "outputs": [],
   "source": [
    "def nlp_model_pipeline(processed_corpus):\n",
    "    \"\"\"Takes processed corpus and produce dictionary, doc_term_matrix and LDA model\"\"\"\n",
    "    # Creates the term dictionary (every unique term in corpus is assigned an index)\n",
    "    dictionary = Dictionary(processed_corpus)\n",
    "    # Convert corpus into Document Term Matrix using dictionary prepared above\n",
    "    doc_term_matrix = [dictionary.doc2bow(listing) for listing in processed_corpus]    \n",
    "    return dictionary, doc_term_matrix"
   ]
  },
  {
   "cell_type": "code",
   "execution_count": 42,
   "metadata": {},
   "outputs": [],
   "source": [
    "\n",
    "def LDA_topic_modelling(doc_term_matrix, dictionary, num_topics=3, passes=2):\n",
    "    # Create an object for LDA model and train it on Document-Term-Matrix\n",
    "    LDA = LdaModel\n",
    "    ldamodel = LDA(doc_term_matrix, num_topics=num_topics, id2word = dictionary, passes=passes)\n",
    "    return ldamodel"
   ]
  },
  {
   "cell_type": "code",
   "execution_count": 43,
   "metadata": {},
   "outputs": [],
   "source": [
    "def add_topics_to_df(ldamodel, doc_term_matrix, df, num_topics):\n",
    "    # Convert into Per-document topic probability matrix:\n",
    "    docTopicProbMat = ldamodel[doc_term_matrix]\n",
    "    docTopicProbDf = pd.DataFrame(index=df.index, columns=range(0, num_topics))\n",
    "    for i, doc in enumerate(docTopicProbMat):\n",
    "        for topic in doc:\n",
    "            docTopicProbDf.iloc[i, topic[0]] = topic[1]\n",
    "    docTopicProbDf = docTopicProbDf.astype('float64')\n",
    "    topic = docTopicProbDf.idxmax(axis=1)\n",
    "    # Merge with df\n",
    "    return topic"
   ]
  },
  {
   "cell_type": "code",
   "execution_count": 44,
   "metadata": {
    "scrolled": true
   },
   "outputs": [
    {
     "data": {
      "text/html": [
       "<div>\n",
       "<style scoped>\n",
       "    .dataframe tbody tr th:only-of-type {\n",
       "        vertical-align: middle;\n",
       "    }\n",
       "\n",
       "    .dataframe tbody tr th {\n",
       "        vertical-align: top;\n",
       "    }\n",
       "\n",
       "    .dataframe thead th {\n",
       "        text-align: right;\n",
       "    }\n",
       "</style>\n",
       "<table border=\"1\" class=\"dataframe\">\n",
       "  <thead>\n",
       "    <tr style=\"text-align: right;\">\n",
       "      <th></th>\n",
       "      <th>descriptions</th>\n",
       "    </tr>\n",
       "  </thead>\n",
       "  <tbody>\n",
       "    <tr>\n",
       "      <th>1</th>\n",
       "      <td>Step into our artistic spacious apartment and ...</td>\n",
       "    </tr>\n",
       "    <tr>\n",
       "      <th>2</th>\n",
       "      <td>An adorable, classic, clean, light-filled one-...</td>\n",
       "    </tr>\n",
       "    <tr>\n",
       "      <th>3</th>\n",
       "      <td>This is a spacious, clean, furnished master be...</td>\n",
       "    </tr>\n",
       "    <tr>\n",
       "      <th>4</th>\n",
       "      <td>Make your NY story in our welcoming, home away...</td>\n",
       "    </tr>\n",
       "    <tr>\n",
       "      <th>5</th>\n",
       "      <td>Urban retreat: enjoy  s.f. floor in  brownston...</td>\n",
       "    </tr>\n",
       "    <tr>\n",
       "      <th>6</th>\n",
       "      <td>BR apartment, with  kitchen,  bathroom and wo...</td>\n",
       "    </tr>\n",
       "    <tr>\n",
       "      <th>7</th>\n",
       "      <td>This listing is NO LONGER active.  ___________...</td>\n",
       "    </tr>\n",
       "    <tr>\n",
       "      <th>8</th>\n",
       "      <td>A beautiful home away from home for your stay ...</td>\n",
       "    </tr>\n",
       "    <tr>\n",
       "      <th>9</th>\n",
       "      <td>Please don’t expect the luxury here just a bas...</td>\n",
       "    </tr>\n",
       "    <tr>\n",
       "      <th>10</th>\n",
       "      <td>Ask about discounts for January to March!  Ren...</td>\n",
       "    </tr>\n",
       "    <tr>\n",
       "      <th>11</th>\n",
       "      <td>Beautiful  Bedroom Apartment, Great for Groups...</td>\n",
       "    </tr>\n",
       "    <tr>\n",
       "      <th>12</th>\n",
       "      <td>Live like a New Yorker instead of a stuffy, ti...</td>\n",
       "    </tr>\n",
       "    <tr>\n",
       "      <th>13</th>\n",
       "      <td>Great, fun, comfortable loft apartment, fantas...</td>\n",
       "    </tr>\n",
       "    <tr>\n",
       "      <th>14</th>\n",
       "      <td>rent a room in a brick house rather than just ...</td>\n",
       "    </tr>\n",
       "    <tr>\n",
       "      <th>15</th>\n",
       "      <td>Freshly painted, bright open space! Excellent ...</td>\n",
       "    </tr>\n",
       "    <tr>\n",
       "      <th>16</th>\n",
       "      <td>A great location and super quiet apartment in ...</td>\n",
       "    </tr>\n",
       "    <tr>\n",
       "      <th>17</th>\n",
       "      <td>Meander down our beautiful tree lined street u...</td>\n",
       "    </tr>\n",
       "    <tr>\n",
       "      <th>18</th>\n",
       "      <td>Bright one bed room apartment in south Park Sl...</td>\n",
       "    </tr>\n",
       "    <tr>\n",
       "      <th>19</th>\n",
       "      <td>Sweet family home right in the heart of Willia...</td>\n",
       "    </tr>\n",
       "    <tr>\n",
       "      <th>20</th>\n",
       "      <td>Our clean, quiet two bedroom apartment is very...</td>\n",
       "    </tr>\n",
       "    <tr>\n",
       "      <th>21</th>\n",
       "      <td>Step into our artistic spacious apartment and ...</td>\n",
       "    </tr>\n",
       "    <tr>\n",
       "      <th>22</th>\n",
       "      <td>th Cent Brownstone, Friendly building Excellen...</td>\n",
       "    </tr>\n",
       "    <tr>\n",
       "      <th>23</th>\n",
       "      <td>Create a memorable vacation or business trip b...</td>\n",
       "    </tr>\n",
       "    <tr>\n",
       "      <th>24</th>\n",
       "      <td>Just renovated sun drenched bedroom in a quiet...</td>\n",
       "    </tr>\n",
       "    <tr>\n",
       "      <th>25</th>\n",
       "      <td>Welcome to Bushwick, Brooklyn!  Welcome to Rid...</td>\n",
       "    </tr>\n",
       "    <tr>\n",
       "      <th>26</th>\n",
       "      <td>this th floor apartment in a brownstone is rea...</td>\n",
       "    </tr>\n",
       "    <tr>\n",
       "      <th>27</th>\n",
       "      <td>Private Rooms for Rent (Phone number hidden by...</td>\n",
       "    </tr>\n",
       "    <tr>\n",
       "      <th>28</th>\n",
       "      <td>Spacious, sunny and very quiet studio with exp...</td>\n",
       "    </tr>\n",
       "    <tr>\n",
       "      <th>29</th>\n",
       "      <td>Great location. Beautiful space. -star reviews...</td>\n",
       "    </tr>\n",
       "    <tr>\n",
       "      <th>30</th>\n",
       "      <td>This huge one bedroom apartment is located on ...</td>\n",
       "    </tr>\n",
       "    <tr>\n",
       "      <th>...</th>\n",
       "      <td>...</td>\n",
       "    </tr>\n",
       "    <tr>\n",
       "      <th>11795</th>\n",
       "      <td>High wood paneled ceilings and lofted beds mak...</td>\n",
       "    </tr>\n",
       "    <tr>\n",
       "      <th>11796</th>\n",
       "      <td>Great and Cozy apartment in Brooklyn, close to...</td>\n",
       "    </tr>\n",
       "    <tr>\n",
       "      <th>11797</th>\n",
       "      <td>Right next to the Javits Center and a couple o...</td>\n",
       "    </tr>\n",
       "    <tr>\n",
       "      <th>11798</th>\n",
       "      <td>Big private room and bathroom for guests. Very...</td>\n",
       "    </tr>\n",
       "    <tr>\n",
       "      <th>11799</th>\n",
       "      <td>This is a great spacious apartment located jus...</td>\n",
       "    </tr>\n",
       "    <tr>\n",
       "      <th>11800</th>\n",
       "      <td>安静的,安全的社区,交通便利,干净的环境给你温馨的感觉｡Quiet, safe commun...</td>\n",
       "    </tr>\n",
       "    <tr>\n",
       "      <th>11801</th>\n",
       "      <td>This charming BR apartment is right in the mid...</td>\n",
       "    </tr>\n",
       "    <tr>\n",
       "      <th>11802</th>\n",
       "      <td>Cozy two bedroom off canal and Mott and near t...</td>\n",
       "    </tr>\n",
       "    <tr>\n",
       "      <th>11803</th>\n",
       "      <td>A very cozy, spacious, simplistic South Slope/...</td>\n",
       "    </tr>\n",
       "    <tr>\n",
       "      <th>11804</th>\n",
       "      <td>Huge one bedroom in a prime location on Fifth ...</td>\n",
       "    </tr>\n",
       "    <tr>\n",
       "      <th>11805</th>\n",
       "      <td>Gorgeous, comfortable and clean apartment. Ide...</td>\n",
       "    </tr>\n",
       "    <tr>\n",
       "      <th>11806</th>\n",
       "      <td>Shared studio with me! The house is near the  ...</td>\n",
       "    </tr>\n",
       "    <tr>\n",
       "      <th>11807</th>\n",
       "      <td>Private room in  bed,  bathroom unit.  Furnish...</td>\n",
       "    </tr>\n",
       "    <tr>\n",
       "      <th>11808</th>\n",
       "      <td>Cozy private room in a modern, airy apartment ...</td>\n",
       "    </tr>\n",
       "    <tr>\n",
       "      <th>11809</th>\n",
       "      <td>This newly renovated modern duplex with a pati...</td>\n",
       "    </tr>\n",
       "    <tr>\n",
       "      <th>11810</th>\n",
       "      <td>Brooklyn's Best Spacious Gorgeous room. So ide...</td>\n",
       "    </tr>\n",
       "    <tr>\n",
       "      <th>11811</th>\n",
       "      <td>Experience a mix of artistic and industrial in...</td>\n",
       "    </tr>\n",
       "    <tr>\n",
       "      <th>11812</th>\n",
       "      <td>I am excited to share an affordable, safe and ...</td>\n",
       "    </tr>\n",
       "    <tr>\n",
       "      <th>11813</th>\n",
       "      <td>Great friendly apartment with a spare room wai...</td>\n",
       "    </tr>\n",
       "    <tr>\n",
       "      <th>11814</th>\n",
       "      <td>Located right off Hudson Yards, in the heart o...</td>\n",
       "    </tr>\n",
       "    <tr>\n",
       "      <th>11815</th>\n",
       "      <td>friendly and quiet space, near to JFK airport ...</td>\n",
       "    </tr>\n",
       "    <tr>\n",
       "      <th>11816</th>\n",
       "      <td>Cozy, one bedroom Bronx apartment Near subways...</td>\n",
       "    </tr>\n",
       "    <tr>\n",
       "      <th>11817</th>\n",
       "      <td>Private studio in a newly renovated constructi...</td>\n",
       "    </tr>\n",
       "    <tr>\n",
       "      <th>11818</th>\n",
       "      <td>Lovely spacious,  bedroom,  bathroom, opened k...</td>\n",
       "    </tr>\n",
       "    <tr>\n",
       "      <th>11819</th>\n",
       "      <td>Lovely  bedroom apartment located in the heart...</td>\n",
       "    </tr>\n",
       "    <tr>\n",
       "      <th>11820</th>\n",
       "      <td>Hello, My listing is located a block away from...</td>\n",
       "    </tr>\n",
       "    <tr>\n",
       "      <th>11821</th>\n",
       "      <td>Beautifully lit, newly renovated  bedroom apar...</td>\n",
       "    </tr>\n",
       "    <tr>\n",
       "      <th>11822</th>\n",
       "      <td>You will adore this sunny, lovely, and fully e...</td>\n",
       "    </tr>\n",
       "    <tr>\n",
       "      <th>11823</th>\n",
       "      <td>Hello! Clean, renovated room,  mins away from ...</td>\n",
       "    </tr>\n",
       "    <tr>\n",
       "      <th>11824</th>\n",
       "      <td>Charming, cozy atmosphere The whole bottom flo...</td>\n",
       "    </tr>\n",
       "  </tbody>\n",
       "</table>\n",
       "<p>11824 rows × 1 columns</p>\n",
       "</div>"
      ],
      "text/plain": [
       "                                            descriptions\n",
       "1      Step into our artistic spacious apartment and ...\n",
       "2      An adorable, classic, clean, light-filled one-...\n",
       "3      This is a spacious, clean, furnished master be...\n",
       "4      Make your NY story in our welcoming, home away...\n",
       "5      Urban retreat: enjoy  s.f. floor in  brownston...\n",
       "6       BR apartment, with  kitchen,  bathroom and wo...\n",
       "7      This listing is NO LONGER active.  ___________...\n",
       "8      A beautiful home away from home for your stay ...\n",
       "9      Please don’t expect the luxury here just a bas...\n",
       "10     Ask about discounts for January to March!  Ren...\n",
       "11     Beautiful  Bedroom Apartment, Great for Groups...\n",
       "12     Live like a New Yorker instead of a stuffy, ti...\n",
       "13     Great, fun, comfortable loft apartment, fantas...\n",
       "14     rent a room in a brick house rather than just ...\n",
       "15     Freshly painted, bright open space! Excellent ...\n",
       "16     A great location and super quiet apartment in ...\n",
       "17     Meander down our beautiful tree lined street u...\n",
       "18     Bright one bed room apartment in south Park Sl...\n",
       "19     Sweet family home right in the heart of Willia...\n",
       "20     Our clean, quiet two bedroom apartment is very...\n",
       "21     Step into our artistic spacious apartment and ...\n",
       "22     th Cent Brownstone, Friendly building Excellen...\n",
       "23     Create a memorable vacation or business trip b...\n",
       "24     Just renovated sun drenched bedroom in a quiet...\n",
       "25     Welcome to Bushwick, Brooklyn!  Welcome to Rid...\n",
       "26     this th floor apartment in a brownstone is rea...\n",
       "27     Private Rooms for Rent (Phone number hidden by...\n",
       "28     Spacious, sunny and very quiet studio with exp...\n",
       "29     Great location. Beautiful space. -star reviews...\n",
       "30     This huge one bedroom apartment is located on ...\n",
       "...                                                  ...\n",
       "11795  High wood paneled ceilings and lofted beds mak...\n",
       "11796  Great and Cozy apartment in Brooklyn, close to...\n",
       "11797  Right next to the Javits Center and a couple o...\n",
       "11798  Big private room and bathroom for guests. Very...\n",
       "11799  This is a great spacious apartment located jus...\n",
       "11800  安静的,安全的社区,交通便利,干净的环境给你温馨的感觉｡Quiet, safe commun...\n",
       "11801  This charming BR apartment is right in the mid...\n",
       "11802  Cozy two bedroom off canal and Mott and near t...\n",
       "11803  A very cozy, spacious, simplistic South Slope/...\n",
       "11804  Huge one bedroom in a prime location on Fifth ...\n",
       "11805  Gorgeous, comfortable and clean apartment. Ide...\n",
       "11806  Shared studio with me! The house is near the  ...\n",
       "11807  Private room in  bed,  bathroom unit.  Furnish...\n",
       "11808  Cozy private room in a modern, airy apartment ...\n",
       "11809  This newly renovated modern duplex with a pati...\n",
       "11810  Brooklyn's Best Spacious Gorgeous room. So ide...\n",
       "11811  Experience a mix of artistic and industrial in...\n",
       "11812  I am excited to share an affordable, safe and ...\n",
       "11813  Great friendly apartment with a spare room wai...\n",
       "11814  Located right off Hudson Yards, in the heart o...\n",
       "11815  friendly and quiet space, near to JFK airport ...\n",
       "11816  Cozy, one bedroom Bronx apartment Near subways...\n",
       "11817  Private studio in a newly renovated constructi...\n",
       "11818  Lovely spacious,  bedroom,  bathroom, opened k...\n",
       "11819  Lovely  bedroom apartment located in the heart...\n",
       "11820  Hello, My listing is located a block away from...\n",
       "11821  Beautifully lit, newly renovated  bedroom apar...\n",
       "11822  You will adore this sunny, lovely, and fully e...\n",
       "11823  Hello! Clean, renovated room,  mins away from ...\n",
       "11824  Charming, cozy atmosphere The whole bottom flo...\n",
       "\n",
       "[11824 rows x 1 columns]"
      ]
     },
     "execution_count": 44,
     "metadata": {},
     "output_type": "execute_result"
    }
   ],
   "source": [
    "corpus"
   ]
  },
  {
   "cell_type": "code",
   "execution_count": 45,
   "metadata": {},
   "outputs": [],
   "source": [
    "corpus_description = corpus['descriptions'].astype(str)"
   ]
  },
  {
   "cell_type": "code",
   "execution_count": 46,
   "metadata": {},
   "outputs": [],
   "source": [
    "processed_corpus_description = preprocess_text(corpus_description)"
   ]
  },
  {
   "cell_type": "code",
   "execution_count": 47,
   "metadata": {},
   "outputs": [],
   "source": [
    "dictionary_description, doc_term_matrix_description = nlp_model_pipeline(processed_corpus_description)"
   ]
  },
  {
   "cell_type": "code",
   "execution_count": 48,
   "metadata": {},
   "outputs": [],
   "source": [
    "ldamodel_description = LDA_topic_modelling(doc_term_matrix_description, dictionary_description, num_topics=3, passes=1)"
   ]
  },
  {
   "cell_type": "code",
   "execution_count": 49,
   "metadata": {
    "scrolled": false
   },
   "outputs": [
    {
     "name": "stderr",
     "output_type": "stream",
     "text": [
      "/Users/Xiao/anaconda3/lib/python3.6/site-packages/pyLDAvis/_prepare.py:257: FutureWarning: Sorting because non-concatenation axis is not aligned. A future version\n",
      "of pandas will change to not sort by default.\n",
      "\n",
      "To accept the future behavior, pass 'sort=False'.\n",
      "\n",
      "To retain the current behavior and silence the warning, pass 'sort=True'.\n",
      "\n",
      "  return pd.concat([default_term_info] + list(topic_dfs))\n"
     ]
    },
    {
     "data": {
      "text/html": [
       "\n",
       "<link rel=\"stylesheet\" type=\"text/css\" href=\"https://cdn.rawgit.com/bmabey/pyLDAvis/files/ldavis.v1.0.0.css\">\n",
       "\n",
       "\n",
       "<div id=\"ldavis_el4278143405234405172515223\"></div>\n",
       "<script type=\"text/javascript\">\n",
       "\n",
       "var ldavis_el4278143405234405172515223_data = {\"mdsDat\": {\"x\": [-0.05085685004871153, -0.019470830294343114, 0.07032768034305469], \"y\": [0.02804174807504514, -0.037842788791458234, 0.009801040716413092], \"topics\": [1, 2, 3], \"cluster\": [1, 1, 1], \"Freq\": [38.214637756347656, 33.05490493774414, 28.73045539855957]}, \"tinfo\": {\"Category\": [\"Default\", \"Default\", \"Default\", \"Default\", \"Default\", \"Default\", \"Default\", \"Default\", \"Default\", \"Default\", \"Default\", \"Default\", \"Default\", \"Default\", \"Default\", \"Default\", \"Default\", \"Default\", \"Default\", \"Default\", \"Default\", \"Default\", \"Default\", \"Default\", \"Default\", \"Default\", \"Default\", \"Default\", \"Default\", \"Default\", \"Topic1\", \"Topic1\", \"Topic1\", \"Topic1\", \"Topic1\", \"Topic1\", \"Topic1\", \"Topic1\", \"Topic1\", \"Topic1\", \"Topic1\", \"Topic1\", \"Topic1\", \"Topic1\", \"Topic1\", \"Topic1\", \"Topic1\", \"Topic1\", \"Topic1\", \"Topic1\", \"Topic1\", \"Topic1\", \"Topic1\", \"Topic1\", \"Topic1\", \"Topic1\", \"Topic1\", \"Topic1\", \"Topic1\", \"Topic1\", \"Topic1\", \"Topic1\", \"Topic1\", \"Topic1\", \"Topic1\", \"Topic1\", \"Topic1\", \"Topic1\", \"Topic1\", \"Topic1\", \"Topic1\", \"Topic1\", \"Topic1\", \"Topic1\", \"Topic1\", \"Topic1\", \"Topic1\", \"Topic1\", \"Topic1\", \"Topic1\", \"Topic1\", \"Topic1\", \"Topic1\", \"Topic1\", \"Topic1\", \"Topic1\", \"Topic1\", \"Topic1\", \"Topic1\", \"Topic1\", \"Topic1\", \"Topic1\", \"Topic1\", \"Topic1\", \"Topic1\", \"Topic1\", \"Topic1\", \"Topic1\", \"Topic1\", \"Topic1\", \"Topic1\", \"Topic1\", \"Topic1\", \"Topic1\", \"Topic1\", \"Topic1\", \"Topic1\", \"Topic1\", \"Topic1\", \"Topic1\", \"Topic1\", \"Topic1\", \"Topic1\", \"Topic1\", \"Topic1\", \"Topic1\", \"Topic1\", \"Topic1\", \"Topic1\", \"Topic1\", \"Topic1\", \"Topic1\", \"Topic1\", \"Topic1\", \"Topic2\", \"Topic2\", \"Topic2\", \"Topic2\", \"Topic2\", \"Topic2\", \"Topic2\", \"Topic2\", \"Topic2\", \"Topic2\", \"Topic2\", \"Topic2\", \"Topic2\", \"Topic2\", \"Topic2\", \"Topic2\", \"Topic2\", \"Topic2\", \"Topic2\", \"Topic2\", \"Topic2\", \"Topic2\", \"Topic2\", \"Topic2\", \"Topic2\", \"Topic2\", \"Topic2\", \"Topic2\", \"Topic2\", \"Topic2\", \"Topic2\", \"Topic2\", \"Topic2\", \"Topic2\", \"Topic2\", \"Topic2\", \"Topic2\", \"Topic2\", \"Topic2\", \"Topic2\", \"Topic2\", \"Topic2\", \"Topic2\", \"Topic2\", \"Topic2\", \"Topic2\", \"Topic2\", \"Topic2\", \"Topic2\", \"Topic2\", \"Topic2\", \"Topic2\", \"Topic2\", \"Topic2\", \"Topic2\", \"Topic2\", \"Topic2\", \"Topic2\", \"Topic2\", \"Topic2\", \"Topic2\", \"Topic2\", \"Topic2\", \"Topic2\", \"Topic2\", \"Topic2\", \"Topic2\", \"Topic2\", \"Topic2\", \"Topic2\", \"Topic2\", \"Topic2\", \"Topic2\", \"Topic2\", \"Topic2\", \"Topic2\", \"Topic2\", \"Topic2\", \"Topic2\", \"Topic2\", \"Topic2\", \"Topic2\", \"Topic2\", \"Topic2\", \"Topic2\", \"Topic2\", \"Topic2\", \"Topic2\", \"Topic2\", \"Topic2\", \"Topic2\", \"Topic2\", \"Topic2\", \"Topic2\", \"Topic2\", \"Topic2\", \"Topic3\", \"Topic3\", \"Topic3\", \"Topic3\", \"Topic3\", \"Topic3\", \"Topic3\", \"Topic3\", \"Topic3\", \"Topic3\", \"Topic3\", \"Topic3\", \"Topic3\", \"Topic3\", \"Topic3\", \"Topic3\", \"Topic3\", \"Topic3\", \"Topic3\", \"Topic3\", \"Topic3\", \"Topic3\", \"Topic3\", \"Topic3\", \"Topic3\", \"Topic3\", \"Topic3\", \"Topic3\", \"Topic3\", \"Topic3\", \"Topic3\", \"Topic3\", \"Topic3\", \"Topic3\", \"Topic3\", \"Topic3\", \"Topic3\", \"Topic3\", \"Topic3\", \"Topic3\", \"Topic3\", \"Topic3\", \"Topic3\", \"Topic3\", \"Topic3\", \"Topic3\", \"Topic3\", \"Topic3\", \"Topic3\", \"Topic3\", \"Topic3\", \"Topic3\", \"Topic3\", \"Topic3\", \"Topic3\", \"Topic3\", \"Topic3\", \"Topic3\", \"Topic3\", \"Topic3\", \"Topic3\", \"Topic3\", \"Topic3\", \"Topic3\", \"Topic3\", \"Topic3\", \"Topic3\", \"Topic3\", \"Topic3\", \"Topic3\", \"Topic3\", \"Topic3\", \"Topic3\", \"Topic3\", \"Topic3\", \"Topic3\", \"Topic3\", \"Topic3\", \"Topic3\", \"Topic3\", \"Topic3\", \"Topic3\", \"Topic3\", \"Topic3\", \"Topic3\", \"Topic3\", \"Topic3\", \"Topic3\", \"Topic3\", \"Topic3\", \"Topic3\", \"Topic3\", \"Topic3\", \"Topic3\", \"Topic3\", \"Topic3\"], \"Freq\": [6509.0, 6337.0, 5825.0, 6755.0, 3234.0, 5445.0, 3314.0, 2720.0, 2048.0, 4581.0, 2693.0, 3312.0, 3365.0, 15540.0, 7275.0, 2727.0, 7874.0, 2473.0, 4154.0, 1388.0, 2266.0, 1428.0, 7692.0, 2404.0, 1046.0, 1794.0, 1887.0, 3663.0, 1346.0, 834.0, 103.88005828857422, 46.995052337646484, 101.48397064208984, 46.8853759765625, 22.621179580688477, 32.95174789428711, 16.473051071166992, 20.425981521606445, 321.10467529296875, 22.498682022094727, 16.392107009887695, 326.69476318359375, 13.450366020202637, 18.19490623474121, 16.29364013671875, 26.315876007080078, 11.643091201782227, 18.48456382751465, 15.554901123046875, 13.353960037231445, 13.737201690673828, 26.671550750732422, 24.623125076293945, 10.224472999572754, 15.446568489074707, 13.18241024017334, 15.96557903289795, 12.329764366149902, 9.252249717712402, 9.791523933410645, 160.35560607910156, 49.6662712097168, 24.547147750854492, 61.34412384033203, 20.004270553588867, 202.03448486328125, 74.68217468261719, 54.56349563598633, 74.2713851928711, 1310.4703369140625, 60.291194915771484, 41.61278533935547, 420.17083740234375, 141.4757843017578, 532.7931518554688, 66.08756256103516, 374.87591552734375, 1097.528564453125, 62.21055603027344, 1470.857177734375, 1039.8023681640625, 558.984130859375, 2486.520751953125, 452.0488586425781, 245.79385375976562, 208.09034729003906, 2566.583251953125, 627.2706298828125, 2567.33349609375, 1483.6319580078125, 4763.8212890625, 532.0770263671875, 345.4048156738281, 334.4834899902344, 170.29135131835938, 3534.76171875, 4286.974609375, 689.2296142578125, 7899.19775390625, 3458.0244140625, 8443.248046875, 5330.37646484375, 5357.94677734375, 2648.96337890625, 715.4163818359375, 853.3860473632812, 1490.9075927734375, 3543.354736328125, 1201.892578125, 1634.5438232421875, 3002.095458984375, 1031.87353515625, 1766.4844970703125, 1586.42236328125, 2380.47314453125, 954.3318481445312, 1380.0428466796875, 1276.6378173828125, 1975.2147216796875, 1771.8641357421875, 1550.4283447265625, 1420.03662109375, 1438.5462646484375, 1468.465576171875, 29.097843170166016, 34.84723663330078, 17.68277359008789, 24.682083129882812, 18.988691329956055, 17.30107307434082, 48.48537063598633, 23.676280975341797, 19.319232940673828, 12.924103736877441, 22.488964080810547, 18.976970672607422, 15.874842643737793, 22.977523803710938, 12.699795722961426, 15.957079887390137, 10.121027946472168, 19.0385799407959, 15.04993724822998, 9.397971153259277, 22.04533576965332, 12.88061809539795, 11.382975578308105, 45.67316818237305, 20.24909019470215, 28.93987274169922, 8.62429141998291, 23.188127517700195, 9.582358360290527, 103.02700805664062, 44.17177963256836, 20.3582820892334, 27.603111267089844, 21.413707733154297, 24.22480010986328, 32.29151153564453, 35.74895095825195, 32.770362854003906, 995.6344604492188, 1599.5831298828125, 355.62774658203125, 47.89353942871094, 154.65481567382812, 183.24258422851562, 656.2914428710938, 221.03277587890625, 245.44740295410156, 310.926513671875, 222.76023864746094, 339.3339538574219, 1556.4986572265625, 1513.361572265625, 651.8639526367188, 1866.60009765625, 1906.4444580078125, 141.3541717529297, 409.2227478027344, 2067.591064453125, 207.4760284423828, 1347.459228515625, 523.0487670898438, 298.4952697753906, 590.476318359375, 890.8715209960938, 796.2841186523438, 2100.81201171875, 981.7202758789062, 3348.291748046875, 861.0032958984375, 5739.162109375, 2128.110107421875, 1860.5706787109375, 978.5126342773438, 1209.162841796875, 925.7487182617188, 2743.130126953125, 1829.6854248046875, 3588.583984375, 1035.7703857421875, 705.5413818359375, 2103.781005859375, 1790.42919921875, 1925.0673828125, 3163.933349609375, 2386.66357421875, 4176.5, 1590.4915771484375, 2341.351318359375, 1921.1024169921875, 1261.5494384765625, 1396.1361083984375, 1334.80810546875, 1541.3980712890625, 1409.8896484375, 1482.9007568359375, 1397.7479248046875, 26.78693962097168, 27.9774227142334, 25.85055923461914, 16.914501190185547, 18.074092864990234, 15.785970687866211, 19.66560173034668, 9.42556381225586, 80.8270263671875, 9.746254920959473, 13.788029670715332, 8.801536560058594, 12.540055274963379, 46.47697830200195, 11.95921516418457, 14.625357627868652, 22.459245681762695, 8.59804630279541, 7.629634380340576, 32.687252044677734, 8.851208686828613, 6.184942245483398, 6.69590425491333, 8.311665534973145, 9.835481643676758, 7.094115257263184, 8.61681079864502, 6.580406665802002, 8.031767845153809, 7.0906147956848145, 46.279476165771484, 14.287496566772461, 16.384544372558594, 18.8631534576416, 39.21877670288086, 18.040191650390625, 25.835432052612305, 80.67670440673828, 86.38648223876953, 25.053953170776367, 19.649974822998047, 640.0469360351562, 20.434539794921875, 1485.1751708984375, 2291.263916015625, 102.03449249267578, 51.21819305419922, 91.38200378417969, 760.77880859375, 1870.3409423828125, 585.365478515625, 317.0694274902344, 994.2354736328125, 965.1580810546875, 61.346248626708984, 3900.871826171875, 3956.055908203125, 209.78216552734375, 1730.52978515625, 3506.712890625, 479.2140808105469, 558.0633544921875, 2036.4423828125, 319.4266052246094, 3804.288330078125, 1641.976806640625, 739.6748046875, 1927.6756591796875, 1472.0516357421875, 1935.3101806640625, 1098.818359375, 2945.94580078125, 2508.17041015625, 734.5534057617188, 1127.4808349609375, 842.0684204101562, 1282.736572265625, 805.978515625, 1044.65966796875, 978.9923095703125, 1938.085693359375, 1573.615966796875, 4998.32470703125, 1827.1748046875, 1131.173095703125, 1755.43505859375, 962.6793823242188, 1378.5849609375, 1916.3963623046875, 1291.1448974609375, 1348.8388671875, 1901.6953125, 1300.8447265625, 1581.1287841796875, 1227.1549072265625, 1195.4088134765625], \"Term\": [\"away\", \"train\", \"park\", \"walk\", \"walking\", \"subway\", \"min\", \"distance\", \"bus\", \"street\", \"minute\", \"block\", \"central\", \"room\", \"living\", \"station\", \"bed\", \"east\", \"close\", \"q\", \"th\", \"b\", \"private\", \"guest\", \"museum\", \"within\", \"center\", \"queen\", \"check\", \"r\", \"con\", \"hay\", \"para\", \"mingle\", \"kitty\", \"te\", \"aire\", \"seater\", \"de\", \"timeless\", \"hasta\", \"en\", \"viking\", \"do\", \"chilling\", \"mirrored\", \"dispone\", \"flatware\", \"wet\", \"dramatic\", \"laden\", \"umbrella\", \"plank\", \"cuadra\", \"tub!\", \"coach\", \"blowup\", \"married\", \"powder\", \"accent\", \"counter\", \"soaking\", \"formal\", \"rain\", \"universal\", \"sleeper\", \"leather\", \"sleek\", \"crib\", \"sofa\", \"coat\", \"bedside\", \"stainless\", \"custom\", \"oven\", \"steam\", \"steel\", \"sized\", \"convertible\", \"dining\", \"table\", \"stove\", \"queen\", \"master\", \"mirror\", \"marble\", \"large\", \"brownstone\", \"size\", \"closet\", \"bed\", \"dishwasher\", \"tub\", \"wood\", \"fireplace\", \"full\", \"living\", \"couch\", \"room\", \"space\", \"apartment\", \"bedroom\", \"kitchen\", \"floor\", \"shower\", \"mattress\", \"fully\", \"private\", \"modern\", \"spacious\", \"bathroom\", \"air\", \"beautiful\", \"comfortable\", \"access\", \"open\", \"coffee\", \"high\", \"home\", \"area\", \"building\", \"neighborhood\", \"park\", \"walk\", \"melting\", \"score\", \"instruction\", \"bushwick!\", \"plate\", \"rooftop!\", \"tableware\", \"commitment\", \"curfew\", \"sole\", \"waste\", \"sent\", \"borrow\", \"crowd\", \"disappointed\", \"transportation!\", \"omega\", \"corona\", \"subject\", \"provider\", \"courteous\", \"involved\", \"written\", \"job\", \"paced\", \"golden\", \"nobody\", \"example\", \"sleeps!\", \"socialize\", \"keyless\", \"dont\", \"stress\", \"camp\", \"silent\", \"normally\", \"search\", \"follow\", \"check\", \"guest\", \"know\", \"remember\", \"reservation\", \"fee\", \"may\", \"arrival\", \"however\", \"booking\", \"per\", \"ask\", \"use\", \"please\", \"want\", \"clean\", \"stay\", \"respect\", \"keep\", \"place\", \"leave\", \"house\", \"host\", \"key\", \"share\", \"make\", \"love\", \"available\", \"day\", \"private\", \"welcome\", \"room\", \"home\", \"time\", \"people\", \"free\", \"feel\", \"bathroom\", \"city\", \"kitchen\", \"like\", \"night\", \"access\", \"area\", \"neighborhood\", \"bedroom\", \"living\", \"apartment\", \"great\", \"bed\", \"space\", \"comfortable\", \"close\", \"quiet\", \"away\", \"subway\", \"walk\", \"full\", \"cant\", \"shrine\", \"nail\", \"descent\", \"oculus\", \"belt\", \"barber\", \"st!\", \"trader\", \"fireplace!\", \"prominent\", \"methodist\", \"tattoo\", \"salon\", \"craving\", \"timely\", \"kosher\", \"citizen\", \"further!\", \"elite\", \"highland\", \"ease!\", \"chick\", \"jean\", \"brett\", \"pork\", \"configuration\", \"charter\", \"catholic\", \"candy\", \"fairway\", \"center!\", \"pin\", \"arent\", \"canal\", \"precinct\", \"bier\", \"herald\", \"bakery\", \"caught\", \"bee\", \"r\", \"cultured\", \"bus\", \"walking\", \"target\", \"seaport\", \"parkway\", \"museum\", \"distance\", \"f\", \"mall\", \"b\", \"q\", \"joe\", \"train\", \"away\", \"botanical\", \"minute\", \"park\", \"soho\", \"n\", \"min\", \"market\", \"walk\", \"station\", \"ave\", \"block\", \"east\", \"central\", \"within\", \"subway\", \"street\", \"line\", \"center\", \"st\", \"th\", \"stop\", \"c\", \"shopping\", \"close\", \"square\", \"apartment\", \"building\", \"location\", \"neighborhood\", \"side\", \"time\", \"bedroom\", \"quiet\", \"available\", \"room\", \"great\", \"kitchen\", \"city\", \"access\"], \"Total\": [6509.0, 6337.0, 5825.0, 6755.0, 3234.0, 5445.0, 3314.0, 2720.0, 2048.0, 4581.0, 2693.0, 3312.0, 3365.0, 15540.0, 7275.0, 2727.0, 7874.0, 2473.0, 4154.0, 1388.0, 2266.0, 1428.0, 7692.0, 2404.0, 1046.0, 1794.0, 1887.0, 3663.0, 1346.0, 834.0, 105.94307708740234, 48.005584716796875, 103.74987030029297, 48.782981872558594, 23.547088623046875, 34.31278610229492, 17.199275970458984, 21.349609375, 335.9878845214844, 23.557836532592773, 17.196374893188477, 342.9582214355469, 14.125117301940918, 19.165264129638672, 17.16293716430664, 27.87032699584961, 12.33790111541748, 19.61811065673828, 16.578628540039062, 14.280229568481445, 14.706360816955566, 28.57297706604004, 26.390634536743164, 10.968379974365234, 16.58824920654297, 14.172666549682617, 17.17584991455078, 13.298929214477539, 9.984663009643555, 10.571906089782715, 175.52545166015625, 54.14237594604492, 26.600156784057617, 67.72615814208984, 21.658418655395508, 231.81195068359375, 83.83241271972656, 60.84731674194336, 83.6336898803711, 1669.860107421875, 67.80662536621094, 46.08342361450195, 512.8477172851562, 165.71437072753906, 670.8983764648438, 74.67589569091797, 464.2228088378906, 1470.8115234375, 70.68368530273438, 2049.46484375, 1431.1954345703125, 735.2803344726562, 3663.5439453125, 586.5897827148438, 305.43023681640625, 256.0584716796875, 3864.759765625, 842.0113525390625, 3903.297607421875, 2168.361328125, 7874.591796875, 715.4766845703125, 447.4872741699219, 433.8785095214844, 207.27577209472656, 5827.33642578125, 7275.17529296875, 977.24755859375, 15540.0546875, 6197.29296875, 17618.072265625, 10410.7060546875, 10527.66015625, 4715.1611328125, 1043.676513671875, 1299.40478515625, 2627.7119140625, 7692.87744140625, 2026.873291015625, 3073.69970703125, 6901.01953125, 1703.127197265625, 3542.57958984375, 3105.216796875, 5679.66259765625, 1561.9716796875, 2696.251953125, 2410.7197265625, 4742.23974609375, 4586.95263671875, 4648.8837890625, 5100.5390625, 5825.9306640625, 6755.654296875, 30.200119018554688, 36.41284942626953, 18.56036949157715, 25.963375091552734, 19.995426177978516, 18.275012969970703, 51.384361267089844, 25.234970092773438, 20.61775779724121, 13.808389663696289, 24.03591537475586, 20.304168701171875, 16.99820327758789, 24.662532806396484, 13.755456924438477, 17.335128784179688, 11.015979766845703, 20.741291046142578, 16.406225204467773, 10.25035285949707, 24.056482315063477, 14.08336353302002, 12.447702407836914, 49.95291519165039, 22.16501808166504, 31.700735092163086, 9.452570915222168, 25.428627014160156, 10.50924015045166, 113.27222442626953, 48.89056396484375, 22.42473793029785, 30.54214096069336, 23.62167739868164, 26.790931701660156, 36.08415985107422, 40.139225006103516, 37.00542068481445, 1346.681396484375, 2404.65771484375, 479.2685852050781, 55.94426727294922, 198.1942138671875, 242.3518829345703, 973.567138671875, 297.59197998046875, 334.623046875, 434.1046447753906, 301.41119384765625, 479.82305908203125, 2600.191162109375, 2525.939208984375, 1002.8599853515625, 3245.116943359375, 3447.9248046875, 186.98532104492188, 617.5612182617188, 3827.266845703125, 289.17950439453125, 2436.963623046875, 835.1613159179688, 443.38665771484375, 968.1251220703125, 1561.3372802734375, 1398.592041015625, 4382.90625, 1805.5596923828125, 7692.87744140625, 1571.11181640625, 15540.0546875, 4742.23974609375, 4032.25927734375, 1868.7474365234375, 2423.81591796875, 1773.532470703125, 6901.01953125, 4182.86279296875, 10527.66015625, 2104.26416015625, 1281.057861328125, 5679.66259765625, 4586.95263671875, 5100.5390625, 10410.7060546875, 7275.17529296875, 17618.072265625, 4164.23876953125, 7874.591796875, 6197.29296875, 3105.216796875, 4154.099609375, 3818.77880859375, 6509.0400390625, 5445.35693359375, 6755.654296875, 5827.33642578125, 27.70145606994629, 28.939634323120117, 26.929506301879883, 17.971879959106445, 19.205934524536133, 16.826417922973633, 21.174671173095703, 10.251794815063477, 88.147216796875, 10.64144229888916, 15.095054626464844, 9.640453338623047, 13.73613166809082, 51.13636016845703, 13.158185958862305, 16.132118225097656, 24.89802360534668, 9.563247680664062, 8.487963676452637, 36.50446319580078, 9.903268814086914, 6.928810119628906, 7.507011413574219, 9.329418182373047, 11.040207862854004, 7.9803385734558105, 9.693401336669922, 7.409132480621338, 9.046651840209961, 7.994172096252441, 52.52936553955078, 16.116695404052734, 18.55466079711914, 21.40962791442871, 45.0385856628418, 20.466917037963867, 29.647415161132812, 94.7734375, 102.48992156982422, 28.78937530517578, 22.43364715576172, 834.5069580078125, 23.391260147094727, 2048.868896484375, 3234.4912109375, 125.60820007324219, 61.01232147216797, 112.37351989746094, 1046.545654296875, 2720.0556640625, 796.4567260742188, 417.26226806640625, 1428.36376953125, 1388.1243896484375, 74.02114868164062, 6337.69287109375, 6509.0400390625, 276.9168701171875, 2693.70751953125, 5825.9306640625, 678.3711547851562, 800.713134765625, 3314.06689453125, 440.47784423828125, 6755.654296875, 2727.020263671875, 1125.8011474609375, 3312.17236328125, 2473.650390625, 3365.2001953125, 1794.5732421875, 5445.35693359375, 4581.99560546875, 1154.3447265625, 1887.283203125, 1380.10498046875, 2266.079345703125, 1323.1494140625, 1813.12646484375, 1683.25927734375, 4154.099609375, 3204.133056640625, 17618.072265625, 4648.8837890625, 2350.17138671875, 5100.5390625, 1796.967529296875, 4032.25927734375, 10410.7060546875, 3818.77880859375, 4382.90625, 15540.0546875, 4164.23876953125, 10527.66015625, 4182.86279296875, 5679.66259765625], \"loglift\": [30.0, 29.0, 28.0, 27.0, 26.0, 25.0, 24.0, 23.0, 22.0, 21.0, 20.0, 19.0, 18.0, 17.0, 16.0, 15.0, 14.0, 13.0, 12.0, 11.0, 10.0, 9.0, 8.0, 7.0, 6.0, 5.0, 4.0, 3.0, 2.0, 1.0, 0.942300021648407, 0.9406999945640564, 0.9398999810218811, 0.9222999811172485, 0.9218000173568726, 0.921500027179718, 0.9187999963760376, 0.9176999926567078, 0.9165999889373779, 0.9158999919891357, 0.9140999913215637, 0.9133999943733215, 0.9129999876022339, 0.9100000262260437, 0.9100000262260437, 0.9046000242233276, 0.9039999842643738, 0.902400016784668, 0.8981999754905701, 0.8949000239372253, 0.8938000202178955, 0.8931000232696533, 0.8925999999046326, 0.891700029373169, 0.8906000256538391, 0.8895000219345093, 0.8888999819755554, 0.8863000273704529, 0.8858000040054321, 0.8852999806404114, 0.8715999722480774, 0.8756999969482422, 0.881600022315979, 0.8629999756813049, 0.8824999928474426, 0.8245000243186951, 0.8464000225067139, 0.8529000282287598, 0.8432000279426575, 0.7196000218391418, 0.8445000052452087, 0.8598999977111816, 0.7626000046730042, 0.8037999868392944, 0.7315000295639038, 0.8398000001907349, 0.748199999332428, 0.6692000031471252, 0.8342999815940857, 0.6302000284194946, 0.6424999833106995, 0.6877999901771545, 0.574400007724762, 0.7013999819755554, 0.744700014591217, 0.7544999718666077, 0.5526000261306763, 0.6675000190734863, 0.5429999828338623, 0.5824999809265137, 0.4593999981880188, 0.6657999753952026, 0.703000009059906, 0.7017999887466431, 0.7653999924659729, 0.4620000123977661, 0.43309998512268066, 0.6128000020980835, 0.28529998660087585, 0.3785000145435333, 0.2264000028371811, 0.29249998927116394, 0.2865000069141388, 0.38530001044273376, 0.5842999815940857, 0.5414999723434448, 0.3952000141143799, 0.1867000013589859, 0.43939998745918274, 0.3303999900817871, 0.12960000336170197, 0.4609000086784363, 0.2660999894142151, 0.29030001163482666, 0.09239999949932098, 0.4693000018596649, 0.2921999990940094, 0.3262999951839447, 0.08609999716281891, 0.01080000028014183, -0.13609999418258667, -0.3167000114917755, -0.4366999864578247, -0.5641999840736389, 1.0698000192642212, 1.063099980354309, 1.0585999488830566, 1.056399941444397, 1.055299997329712, 1.0521999597549438, 1.0489000082015991, 1.0432000160217285, 1.0419000387191772, 1.0407999753952026, 1.0405000448226929, 1.0393999814987183, 1.038599967956543, 1.0362000465393066, 1.0271999835968018, 1.0241999626159668, 1.0223000049591064, 1.021299958229065, 1.0206999778747559, 1.0202000141143799, 1.019700050354004, 1.017699956893921, 1.0176000595092773, 1.0174000263214111, 1.0166000127792358, 1.0159000158309937, 1.0153000354766846, 1.014799952507019, 1.0147000551223755, 1.0121999979019165, 1.0054999589920044, 1.0103000402450562, 1.0058000087738037, 1.0089000463485718, 1.0062999725341797, 0.9959999918937683, 0.9911999702453613, 0.9854999780654907, 0.8050000071525574, 0.6992999911308289, 0.8086000084877014, 0.9516000151634216, 0.8589000105857849, 0.8274000287055969, 0.7125999927520752, 0.8095999956130981, 0.7971000075340271, 0.7732999920845032, 0.8046000003814697, 0.7605999708175659, 0.5939000248908997, 0.5946999788284302, 0.6761999726295471, 0.5540000200271606, 0.5145000219345093, 0.8271999955177307, 0.6955000162124634, 0.4912000000476837, 0.7749999761581421, 0.5145000219345093, 0.6391000151634216, 0.7113000154495239, 0.6126000285148621, 0.5458999872207642, 0.5436999797821045, 0.3716000020503998, 0.4977000057697296, 0.2752000093460083, 0.5055999755859375, 0.11089999973773956, 0.30570000410079956, 0.3336000144481659, 0.46000000834465027, 0.4115999937057495, 0.4569000005722046, 0.18440000712871552, 0.2800999879837036, 0.030799999833106995, 0.39820000529289246, 0.5105000138282776, 0.11379999667406082, 0.16619999706745148, 0.13259999454021454, -0.08399999886751175, -0.007600000128149986, -0.33250001072883606, 0.1445000022649765, -0.10589999705553055, -0.06419999897480011, 0.20630000531673431, 0.016599999740719795, 0.05590000003576279, -0.3334999978542328, -0.2442999929189682, -0.40939998626708984, -0.3206999897956848, 1.2136000394821167, 1.2134000062942505, 1.2063000202178955, 1.1865999698638916, 1.1864999532699585, 1.18340003490448, 1.17330002784729, 1.1632000207901, 1.1605000495910645, 1.1592999696731567, 1.156599998474121, 1.1562000513076782, 1.1561000347137451, 1.1517000198364258, 1.1517000198364258, 1.1491999626159668, 1.1440999507904053, 1.1407999992370605, 1.1405999660491943, 1.1368000507354736, 1.1348999738693237, 1.1335999965667725, 1.1328999996185303, 1.131700038909912, 1.131700038909912, 1.1295000314712524, 1.1295000314712524, 1.128600001335144, 1.1282000541687012, 1.1273000240325928, 1.1204999685287476, 1.1267000436782837, 1.1227999925613403, 1.1205999851226807, 1.1088000535964966, 1.121000051498413, 1.1095999479293823, 1.0861999988555908, 1.076300024986267, 1.108199954032898, 1.1146999597549438, 0.9818999767303467, 1.1121000051498413, 0.9254999756813049, 0.902400016784668, 1.0393999814987183, 1.0721999406814575, 1.0404000282287598, 0.9283000230789185, 0.8726999759674072, 0.939300000667572, 0.972599983215332, 0.8848999738693237, 0.8838000297546387, 1.059399962425232, 0.761900007724762, 0.7493000030517578, 0.9696000218391418, 0.8047000169754028, 0.7396000027656555, 0.8996999859809875, 0.8862000107765198, 0.760200023651123, 0.9258999824523926, 0.6729999780654907, 0.7398999929428101, 0.8271999955177307, 0.7059000134468079, 0.7282000184059143, 0.6940000057220459, 0.7566999793052673, 0.6328999996185303, 0.644599974155426, 0.795199990272522, 0.7321000099182129, 0.7531999945640564, 0.6782000064849854, 0.7515000104904175, 0.695900022983551, 0.7052000164985657, 0.4848000109195709, 0.5360999703407288, -0.012600000016391277, 0.313400000333786, 0.515999972820282, 0.18060000240802765, 0.6230999827384949, 0.17389999330043793, -0.44519999623298645, 0.16279999911785126, 0.06870000064373016, -0.8535000085830688, 0.08370000123977661, -0.6486999988555908, 0.020899999886751175, -0.31119999289512634], \"logprob\": [30.0, 29.0, 28.0, 27.0, 26.0, 25.0, 24.0, 23.0, 22.0, 21.0, 20.0, 19.0, 18.0, 17.0, 16.0, 15.0, 14.0, 13.0, 12.0, 11.0, 10.0, 9.0, 8.0, 7.0, 6.0, 5.0, 4.0, 3.0, 2.0, 1.0, -7.943299770355225, -8.736499786376953, -7.966599941253662, -8.738800048828125, -9.467599868774414, -9.091500282287598, -9.784799575805664, -9.569700241088867, -6.814799785614014, -9.473099708557129, -9.78969955444336, -6.797500133514404, -9.987500190734863, -9.685400009155273, -9.795700073242188, -9.316300392150879, -10.131799697875977, -9.669599533081055, -9.842100143432617, -9.99470043182373, -9.966400146484375, -9.302900314331055, -9.382800102233887, -10.261699676513672, -9.849100112915039, -10.007599830627441, -9.816100120544434, -10.07450008392334, -10.361700057983398, -10.305000305175781, -7.509099960327148, -8.68120002746582, -9.385899543762207, -8.470000267028809, -9.59060001373291, -7.27810001373291, -8.273300170898438, -8.587200164794922, -8.278800010681152, -5.408400058746338, -8.487299919128418, -8.858099937438965, -6.545899868011475, -7.634399890899658, -6.3084001541137695, -8.395500183105469, -6.659900188446045, -5.585700035095215, -8.456000328063965, -5.292900085449219, -5.639699935913086, -6.26039981842041, -4.767899990081787, -6.472700119018555, -7.081999778747559, -7.248499870300293, -4.736199855804443, -6.145100116729736, -4.735899925231934, -5.284299850463867, -4.117700099945068, -6.309700012207031, -6.741799831390381, -6.773900032043457, -7.448999881744385, -4.416100025177002, -4.223199844360352, -6.050899982452393, -3.611999988555908, -4.4380998611450195, -3.5453999042510986, -4.005300045013428, -4.000199794769287, -4.704599857330322, -6.013700008392334, -5.837299823760986, -5.279399871826172, -4.413700103759766, -5.494900226593018, -5.187399864196777, -4.579500198364258, -5.64739990234375, -5.109799861907959, -5.217299938201904, -4.811500072479248, -5.725500106811523, -5.356599807739258, -5.434500217437744, -4.9980998039245605, -5.1066999435424805, -5.240200042724609, -5.328100204467773, -5.315100193023682, -5.29449987411499, -9.070799827575684, -8.89050006866455, -9.568900108337402, -9.235400199890137, -9.497599601745605, -9.590700149536133, -8.560199737548828, -9.277000427246094, -9.480400085449219, -9.882399559020996, -9.328399658203125, -9.498200416564941, -9.6766996383667, -9.307000160217285, -9.899900436401367, -9.671600341796875, -10.126899719238281, -9.494999885559082, -9.73009967803955, -10.201000213623047, -9.348400115966797, -9.885700225830078, -10.009400367736816, -8.619999885559082, -9.43340015411377, -9.076199531555176, -10.28689956665039, -9.297800064086914, -10.181500434875488, -7.80649995803833, -8.653400421142578, -9.428000450134277, -9.123499870300293, -9.377400398254395, -9.25409984588623, -8.966699600219727, -8.864899635314941, -8.951899528503418, -5.538099765777588, -5.064000129699707, -6.567599773406982, -8.572500228881836, -7.400300025939941, -7.2307000160217285, -5.954899787902832, -7.0432000160217285, -6.938399791717529, -6.701900005340576, -7.035399913787842, -6.614500045776367, -5.091300010681152, -5.1194000244140625, -5.961599826812744, -4.909599781036377, -4.888500213623047, -7.490200042724609, -6.427199840545654, -4.807300090789795, -7.106500148773193, -5.235499858856201, -6.18179988861084, -6.742700099945068, -6.060500144958496, -5.6493000984191895, -5.761499881744385, -4.791399955749512, -5.552199840545654, -4.325300216674805, -5.6834001541137695, -3.786400079727173, -4.778500080108643, -4.912799835205078, -5.5553998947143555, -5.343800067901611, -5.610899925231934, -4.524600028991699, -4.929599761962891, -4.25600004196167, -5.498600006103516, -5.882500171661377, -4.789999961853027, -4.951300144195557, -4.878799915313721, -4.381899833679199, -4.66379976272583, -4.1041998863220215, -5.069699764251709, -4.683000087738037, -4.880799770355225, -5.301400184631348, -5.199999809265137, -5.244900226593018, -5.10099983215332, -5.190199851989746, -5.139699935913086, -5.19890022277832, -9.013299942016602, -8.969900131225586, -9.04889965057373, -9.473099708557129, -9.406800270080566, -9.542099952697754, -9.322400093078613, -10.05780029296875, -7.908899784088135, -10.024399757385254, -9.677499771118164, -10.126299858093262, -9.772299766540527, -8.462300300598145, -9.81980037689209, -9.618499755859375, -9.189599990844727, -10.149700164794922, -10.269200325012207, -8.814299583435059, -10.120699882507324, -10.479100227355957, -10.399800300598145, -10.183600425720215, -10.015299797058105, -10.342000007629395, -10.147500038146973, -10.417200088500977, -10.217900276184082, -10.342499732971191, -8.46660041809082, -9.641900062561035, -9.504899978637695, -9.36400032043457, -8.632100105285645, -9.408699989318848, -9.049500465393066, -7.910799980163574, -7.842400074005127, -9.0802001953125, -9.323200225830078, -5.839700222015381, -9.284000396728516, -4.998000144958496, -4.5644001960754395, -7.675899982452393, -8.36520004272461, -7.786200046539307, -5.666900157928467, -4.767399787902832, -5.928999900817871, -6.542099952697754, -5.3993000984191895, -5.428999900817871, -8.184700012207031, -4.032299995422363, -4.0183000564575195, -6.9552001953125, -4.845099925994873, -4.138800144195557, -6.1290998458862305, -5.976799964904785, -4.682300090789795, -6.5346999168396, -4.057400226593018, -4.897600173950195, -5.695000171661377, -4.737199783325195, -5.006800174713135, -4.7332000732421875, -5.299300193786621, -4.3130998611450195, -4.473899841308594, -5.702000141143799, -5.273499965667725, -5.565400123596191, -5.144499778747559, -5.6092000007629395, -5.349800109863281, -5.414700031280518, -4.731800079345703, -4.940100193023682, -3.78439998626709, -4.7906999588012695, -5.270199775695801, -4.8308000564575195, -5.43149995803833, -5.072400093078613, -4.743100166320801, -5.138000011444092, -5.094299793243408, -4.750800132751465, -5.130499839782715, -4.935400009155273, -5.188799858093262, -5.215000152587891]}, \"token.table\": {\"Topic\": [1, 1, 2, 3, 1, 2, 3, 1, 1, 2, 3, 1, 2, 3, 2, 3, 1, 2, 3, 1, 2, 3, 1, 2, 3, 1, 2, 3, 1, 2, 3, 1, 2, 3, 1, 2, 3, 1, 3, 1, 2, 3, 1, 2, 3, 1, 2, 3, 1, 2, 3, 1, 2, 3, 1, 2, 3, 1, 3, 1, 2, 3, 1, 2, 3, 1, 2, 3, 1, 2, 3, 1, 2, 1, 2, 3, 1, 3, 1, 2, 3, 1, 2, 3, 1, 2, 3, 1, 2, 3, 1, 2, 3, 1, 2, 3, 1, 2, 3, 1, 3, 2, 3, 2, 3, 1, 2, 3, 1, 2, 3, 1, 2, 3, 1, 2, 3, 3, 1, 2, 3, 3, 1, 2, 3, 1, 2, 3, 1, 2, 3, 1, 2, 3, 1, 2, 3, 1, 2, 1, 2, 3, 1, 2, 3, 1, 2, 3, 1, 2, 1, 2, 3, 1, 2, 3, 1, 2, 3, 1, 2, 3, 1, 2, 3, 1, 2, 3, 1, 2, 3, 1, 2, 3, 1, 2, 3, 1, 2, 3, 1, 1, 2, 3, 1, 2, 3, 1, 2, 3, 1, 2, 3, 1, 2, 3, 2, 3, 1, 2, 3, 1, 2, 1, 2, 3, 1, 1, 2, 3, 1, 3, 1, 2, 3, 1, 2, 3, 1, 2, 3, 1, 2, 3, 1, 2, 3, 1, 2, 3, 1, 2, 3, 1, 2, 3, 1, 2, 3, 1, 2, 3, 1, 2, 3, 1, 3, 1, 2, 1, 2, 3, 1, 2, 3, 1, 2, 3, 1, 2, 3, 1, 2, 3, 1, 2, 3, 3, 1, 2, 3, 1, 2, 3, 1, 2, 3, 1, 1, 2, 1, 2, 3, 1, 2, 3, 1, 2, 3, 1, 2, 3, 1, 2, 3, 1, 2, 3, 1, 2, 3, 1, 2, 1, 2, 1, 3, 1, 2, 3, 1, 2, 3, 1, 2, 3, 1, 2, 3, 1, 2, 1, 2, 3, 1, 1, 2, 3, 1, 2, 3, 1, 3, 1, 2, 3, 1, 2, 3, 1, 2, 3, 1, 2, 3, 1, 2, 3, 1, 2, 3, 1, 2, 3, 1, 2, 3, 1, 2, 3, 1, 2, 3, 1, 2, 3, 1, 2, 3, 1, 3, 1, 2, 3, 1, 2, 3, 1, 2, 3, 1, 2, 3, 1, 2, 3, 1, 2, 1, 2, 3, 1, 2, 3, 1, 2, 3, 1, 2, 3, 1, 2, 3, 1, 2, 3, 1, 3, 1, 2, 3, 1, 2, 3, 2, 1, 2, 3, 1, 2, 3, 2, 1, 2, 3, 1, 2, 3, 1, 2, 1, 2, 1, 2, 3, 1, 2, 3, 1, 2, 3, 1, 2, 3, 1, 2, 3, 1, 2, 3, 1, 2, 3, 1, 2, 1, 2, 3, 3, 1, 1, 2, 3, 1, 2, 3, 1, 3, 2, 1, 2, 3, 1, 2, 3, 1, 2, 3, 1, 2, 3, 1, 2, 3, 1, 2, 3, 1, 2, 3, 1, 2, 3, 2, 3, 1, 2, 3, 1, 2, 3, 1, 2, 3, 1, 2, 3, 1, 2, 3, 1, 3, 1, 2, 1, 2, 3, 1, 2, 3, 1, 2, 3, 2, 3, 1, 2, 3, 1, 2, 3, 1, 2, 3, 1, 2, 3, 1, 2, 3, 1, 2, 3, 2, 1, 2, 3, 1, 2, 3, 1, 2, 3, 1, 2, 3, 1, 2, 1, 2, 3, 1, 2, 3, 1, 2, 3, 1, 2, 3, 3, 1, 2, 3, 1, 2, 3, 1, 2, 3, 1, 2, 3, 1, 2, 3, 1, 2, 3, 1, 2, 3, 1, 2, 3, 1, 2, 3, 1, 2, 3, 1, 2, 3, 1, 2, 3, 1, 2, 1, 2, 3, 1, 2, 3, 1, 2, 1, 2, 3, 1, 2, 3, 1, 3, 1, 2, 3, 1, 2, 3, 1, 2, 3, 1, 2, 3, 1, 2, 3, 1, 2, 1, 2, 3, 1, 2, 3, 1, 2, 3, 1, 1, 2, 3, 1, 2, 3, 1, 2, 3, 1, 2, 3, 1, 2, 3, 1, 2, 1, 2, 3, 1, 2, 3, 1, 2], \"Freq\": [0.9459032416343689, 0.4190389811992645, 0.37044453620910645, 0.2103998214006424, 0.6059441566467285, 0.23133915662765503, 0.1626419872045517, 0.9302717447280884, 0.4792238175868988, 0.23702934384346008, 0.28368598222732544, 0.3863131105899811, 0.39023730158805847, 0.2234598994255066, 0.09341591596603394, 0.887451171875, 0.14113283157348633, 0.7426275610923767, 0.11761069297790527, 0.11254148930311203, 0.7065104246139526, 0.18131683766841888, 0.2128724455833435, 0.4793623089790344, 0.30778664350509644, 0.22117583453655243, 0.12169111520051956, 0.6573097109794617, 0.15547607839107513, 0.23674766719341278, 0.6077700853347778, 0.15892310440540314, 0.14492106437683105, 0.6959011554718018, 0.126841738820076, 0.029271170496940613, 0.8391069173812866, 0.04722623527050018, 0.9445247054100037, 0.4350081980228424, 0.39747750759124756, 0.1675114780664444, 0.4985067844390869, 0.2314697504043579, 0.26985985040664673, 0.6049837470054626, 0.297285258769989, 0.09765585511922836, 0.511972963809967, 0.30391791462898254, 0.18404130637645721, 0.9113906025886536, 0.08679910749197006, 0.021699776872992516, 0.044575899839401245, 0.044575899839401245, 0.8915179967880249, 0.059430357068777084, 0.9508857131004333, 0.03372975438833237, 0.1011892631649971, 0.876973569393158, 0.25451573729515076, 0.16363883018493652, 0.5820953249931335, 0.9315404891967773, 0.058221280574798584, 0.058221280574798584, 0.20962686836719513, 0.716417133808136, 0.07371494174003601, 0.05882974714040756, 0.941275954246521, 0.16972602903842926, 0.07222384214401245, 0.7583503127098083, 0.09057800471782684, 0.9057800769805908, 0.7446455359458923, 0.11520034819841385, 0.1401406228542328, 0.33341336250305176, 0.2733989655971527, 0.3929975628852844, 0.0976148322224617, 0.17765900492668152, 0.7247901558876038, 0.03851579502224922, 0.962894856929779, 0.03851579502224922, 0.25591155886650085, 0.1682177186012268, 0.5763525366783142, 0.042333997786045074, 0.889013946056366, 0.042333997786045074, 0.04440636932849884, 0.08881273865699768, 0.8659241795539856, 0.12509112060070038, 0.8756378889083862, 0.036099184304475784, 0.9746779799461365, 0.11053813248872757, 0.8843050599098206, 0.03473503515124321, 0.10420510917901993, 0.8683758974075317, 0.1859816312789917, 0.21671363711357117, 0.5971546769142151, 0.062047459185123444, 0.062047459185123444, 0.8686644434928894, 0.26001423597335815, 0.16492332518100739, 0.575002908706665, 0.9447799921035767, 0.10098899155855179, 0.739595890045166, 0.1596517264842987, 0.9324616193771362, 0.9322413802146912, 0.10456698387861252, 0.9411028623580933, 0.2691936194896698, 0.43749940395355225, 0.2933397591114044, 0.21909841895103455, 0.5753259658813477, 0.20553958415985107, 0.19739536941051483, 0.3360535800457001, 0.4665270745754242, 0.6843878030776978, 0.23243358731269836, 0.08347317576408386, 0.9172585606575012, 0.07055835425853729, 0.8848692774772644, 0.10323475301265717, 0.014747821725904942, 0.5118216276168823, 0.303754985332489, 0.1847008466720581, 0.5107533931732178, 0.40641283988952637, 0.08276394754648209, 0.039627548307180405, 0.9510611891746521, 0.9816592335700989, 0.018878061324357986, 0.009439030662178993, 0.10316295921802521, 0.10316295921802521, 0.9284666776657104, 0.8771472573280334, 0.08488521724939346, 0.02829507179558277, 0.04821300506591797, 0.9160470962524414, 0.04821300506591797, 0.7050414085388184, 0.224098801612854, 0.07060647010803223, 0.9115487337112427, 0.05697179585695267, 0.028485897928476334, 0.04156883805990219, 0.914514422416687, 0.04156883805990219, 0.07599832117557526, 0.07599832117557526, 0.9119797945022583, 0.8848109245300293, 0.0836983248591423, 0.023913808166980743, 0.040547337383031845, 0.9325886964797974, 0.040547337383031845, 0.9117116928100586, 0.0427510105073452, 0.0855020210146904, 0.8550202250480652, 0.0485018789768219, 0.9215357303619385, 0.0485018789768219, 0.8508616089820862, 0.05431031808257103, 0.09051719307899475, 0.3018454611301422, 0.5438756942749023, 0.15452271699905396, 0.9553915858268738, 0.017857786267995834, 0.02678667940199375, 0.05564248189330101, 0.9459221959114075, 0.7177483439445496, 0.16736076772212982, 0.11466407775878906, 0.07269842177629471, 0.9450794458389282, 0.7435601949691772, 0.09643919765949249, 0.15933433175086975, 0.972612738609314, 0.17867282032966614, 0.1334531456232071, 0.687485933303833, 0.9391991496086121, 0.052177730947732925, 0.04459360986948013, 0.8918721675872803, 0.04459360986948013, 0.9103494882583618, 0.07002688199281693, 0.8659495711326599, 0.29996153712272644, 0.10510782152414322, 0.5950719714164734, 0.08218172937631607, 0.02739391103386879, 0.9039990305900574, 0.953468918800354, 0.0379054918885231, 0.008747421205043793, 0.03932575508952141, 0.9044923782348633, 0.03932575508952141, 0.10421156138181686, 0.16071180999279022, 0.7345032095909119, 0.09518485516309738, 0.019036971032619476, 0.8757006525993347, 0.06189347431063652, 0.7551003694534302, 0.18155419826507568, 0.29320016503334045, 0.5221218466758728, 0.1849416345357895, 0.820163369178772, 0.04342041537165642, 0.13508573174476624, 0.09397222101688385, 0.9397222399711609, 0.9175195693969727, 0.050973307341337204, 0.5618047714233398, 0.21632346510887146, 0.2218375951051712, 0.08106920123100281, 0.8917612433433533, 0.054046135395765305, 0.9398440718650818, 0.07518752664327621, 0.03759376332163811, 0.26899731159210205, 0.49880024790763855, 0.231865793466568, 0.606623649597168, 0.2399037778377533, 0.1535864621400833, 0.5674138069152832, 0.21387428045272827, 0.21844099462032318, 0.9425110816955566, 0.0315450094640255, 0.9148052930831909, 0.0315450094640255, 0.30569812655448914, 0.38182249665260315, 0.3124220371246338, 0.22747519612312317, 0.6653753519058228, 0.10729178041219711, 0.930428683757782, 0.9790527820587158, 0.02083090879023075, 0.09496331959962845, 0.052757397294044495, 0.8546698689460754, 0.5297173261642456, 0.15389594435691833, 0.31650298833847046, 0.10097675770521164, 0.10097675770521164, 0.9087908267974854, 0.41646987199783325, 0.4487331211566925, 0.1347464621067047, 0.19876399636268616, 0.6262263059616089, 0.17481651902198792, 0.2720598578453064, 0.5527369976043701, 0.17521804571151733, 0.20022529363632202, 0.73216712474823, 0.06574562191963196, 0.053878236562013626, 0.9698082804679871, 0.07100576162338257, 0.9230749607086182, 0.10718782246112823, 0.8575025796890259, 0.04003770276904106, 0.9208672046661377, 0.04003770276904106, 0.040528956800699234, 0.13509652018547058, 0.8240888118743896, 0.24612943828105927, 0.6622825264930725, 0.09229854494333267, 0.19847236573696136, 0.6720995903015137, 0.12855596840381622, 0.08181537687778473, 0.8999691605567932, 0.5089449882507324, 0.3409114480018616, 0.15017582476139069, 0.9767661690711975, 0.16483449935913086, 0.7427985072135925, 0.09389307349920273, 0.040163829922676086, 0.040163829922676086, 0.8836042881011963, 0.9519690275192261, 0.06799779087305069, 0.664206862449646, 0.23106223344802856, 0.10479305684566498, 0.8946420550346375, 0.08349992334842682, 0.02385712042450905, 0.15561269223690033, 0.7158183455467224, 0.12794820964336395, 0.29036277532577515, 0.49233362078666687, 0.2176532745361328, 0.2624865770339966, 0.10135620087385178, 0.6367248892784119, 0.5892641544342041, 0.3281020522117615, 0.08274714648723602, 0.24679051339626312, 0.27189505100250244, 0.48124149441719055, 0.19448129832744598, 0.5691438317298889, 0.23666658997535706, 0.293978750705719, 0.570664644241333, 0.1351405680179596, 0.03355203941464424, 0.20610538125038147, 0.7597140073776245, 0.8123144507408142, 0.08201251924037933, 0.10544466227293015, 0.14302648603916168, 0.13167518377304077, 0.7242134809494019, 0.9023283123970032, 0.07519402354955673, 0.7705555558204651, 0.15001966059207916, 0.0801241397857666, 0.6564543843269348, 0.280897855758667, 0.062336232513189316, 0.1910499930381775, 0.6738107204437256, 0.13455672562122345, 0.03311245143413544, 0.9602611064910889, 0.9335660338401794, 0.10802437365055084, 0.2776045501232147, 0.6143509149551392, 0.9634507298469543, 0.04099790379405022, 0.1807917207479477, 0.17670811712741852, 0.6426087617874146, 0.8054212331771851, 0.14733316004276276, 0.045836981385946274, 0.932891845703125, 0.03588045388460159, 0.03588045388460159, 0.593031644821167, 0.22941739857196808, 0.17761346697807312, 0.21021538972854614, 0.06306461989879608, 0.7271541357040405, 0.1273864507675171, 0.17609302699565887, 0.6968787908554077, 0.03713398799300194, 0.9654837250709534, 0.2784019410610199, 0.3774110972881317, 0.3440812826156616, 0.2466711401939392, 0.5511070489883423, 0.20217666029930115, 0.952121913433075, 0.0554259829223156, 0.8868157267570496, 0.0554259829223156, 0.052067238837480545, 0.052067238837480545, 0.9372103214263916, 0.9077721834182739, 0.6107665300369263, 0.2266366332769394, 0.16261498630046844, 0.7944571375846863, 0.1341484785079956, 0.07154586166143417, 0.04511613771319389, 0.9023227691650391, 0.9734951853752136, 0.01927713304758072, 0.24699915945529938, 0.15122047066688538, 0.6019639372825623, 0.10678672045469284, 0.08009004592895508, 0.809799313545227, 0.3216058015823364, 0.5238803029060364, 0.15518416464328766, 0.1327090710401535, 0.7398530840873718, 0.12939134240150452, 0.05389481410384178, 0.10778962820768356, 0.8623170256614685, 0.20144924521446228, 0.5403333902359009, 0.25840893387794495, 0.9473057389259338, 0.03789222985506058, 0.03789222985506058, 0.05001143738627434, 0.9502173066139221, 0.22803398966789246, 0.5989851355552673, 0.17260906100273132, 0.8771557807922363, 0.9013824462890625, 0.048859335482120514, 0.048859335482120514, 0.8794680833816528, 0.46055588126182556, 0.4352077543735504, 0.10412228852510452, 0.06624685972929001, 0.9274560809135437, 0.8780185580253601, 0.10157591104507446, 0.20315182209014893, 0.6951826810836792, 0.6788508892059326, 0.22137035429477692, 0.09990326315164566, 0.31240352988243103, 0.34958818554878235, 0.3380661904811859, 0.06950211524963379, 0.16297048330307007, 0.7669199109077454, 0.9006859660148621, 0.05906137451529503, 0.0442960299551487, 0.053624797612428665, 0.8579967617988586, 0.08937466144561768, 0.10091111809015274, 0.7820611596107483, 0.12109334021806717, 0.16044040024280548, 0.7540698647499084, 0.08556821197271347, 0.9302318692207336, 0.05471952259540558, 0.5082993507385254, 0.36930373311042786, 0.12239339202642441, 0.07822223007678986, 0.019555557519197464, 0.8995556235313416, 0.027462832629680634, 0.961199164390564, 0.027462832629680634, 0.11473092436790466, 0.049170397222042084, 0.8358967304229736, 0.09965314716100693, 0.8968783020973206, 0.024913286790251732, 0.9367852807044983, 0.046839263290166855, 0.049250971525907516, 0.9357684254646301, 0.2685603201389313, 0.6094253659248352, 0.12188506871461868, 0.20377133786678314, 0.21446488797664642, 0.5816097259521484, 0.6850781440734863, 0.2519937753677368, 0.0622798353433609, 0.03455468639731407, 0.9675312042236328, 0.34892114996910095, 0.11519406735897064, 0.5359028577804565, 0.037326063960790634, 0.8958255052566528, 0.037326063960790634, 0.657649040222168, 0.24056582152843475, 0.10170887410640717, 0.7465266585350037, 0.18153244256973267, 0.07274895161390305, 0.9039018154144287, 0.06573831290006638, 0.03286915645003319, 0.8713959455490112, 0.06039378046989441, 0.06902146339416504, 0.9515435695648193, 0.9234910607337952, 0.05540946498513222, 0.03693964332342148, 0.026484869420528412, 0.9093138575553894, 0.07062631845474243, 0.7844968438148499, 0.1431257575750351, 0.07186231017112732, 0.23438496887683868, 0.058964770287275314, 0.7061031460762024, 0.07241974025964737, 0.9414566159248352, 0.5579855442047119, 0.3099740445613861, 0.1319931149482727, 0.5319322347640991, 0.29443344473838806, 0.1737319976091385, 0.27558156847953796, 0.23344847559928894, 0.491240531206131, 0.20433227717876434, 0.18549314141273499, 0.6100985407829285, 0.8778950572013855, 0.8189565539360046, 0.048747412860393524, 0.13259296119213104, 0.21415315568447113, 0.1837170124053955, 0.60212242603302, 0.2772682309150696, 0.5527963042259216, 0.16995730996131897, 0.8838193416595459, 0.0803472101688385, 0.026782404631376266, 0.8078017830848694, 0.04739103466272354, 0.14432725310325623, 0.20708167552947998, 0.18365272879600525, 0.6091526746749878, 0.7602542638778687, 0.15504290163516998, 0.08432158082723618, 0.2712791860103607, 0.18136201798915863, 0.5473597645759583, 0.032741647213697433, 0.9167661070823669, 0.06548329442739487, 0.06095247343182564, 0.9142870903015137, 0.06095247343182564, 0.20017053186893463, 0.25893619656562805, 0.541011393070221, 0.7266652584075928, 0.19284577667713165, 0.08105112612247467, 0.0583835206925869, 0.9341363310813904, 0.08757390081882477, 0.10349642485380173, 0.8120489120483398, 0.07280070334672928, 0.07280070334672928, 0.9464091062545776, 0.9617406129837036, 0.02914365567266941, 0.32964423298835754, 0.1041446328163147, 0.5661761164665222, 0.19666394591331482, 0.46152785420417786, 0.3419919013977051, 0.9338718056678772, 0.04244871810078621, 0.061988141387701035, 0.061988141387701035, 0.9298220872879028, 0.05672328919172287, 0.03403397276997566, 0.9189172983169556, 0.1825585514307022, 0.20196624100208282, 0.6155236959457397, 0.05768633261322975, 0.922981321811676, 0.05768633261322975, 0.7709716558456421, 0.15866373479366302, 0.06927571445703506, 0.9042545557022095, 0.060283638536930084, 0.9449487924575806, 0.034998103976249695, 0.034998103976249695, 0.923428475856781, 0.04617142304778099, 0.04617142304778099, 0.2980550229549408, 0.5984175205230713, 0.10306934267282486, 0.9203463196754456, 0.2172994613647461, 0.21951982378959656, 0.5630838871002197, 0.1586029976606369, 0.1329420804977417, 0.7083030343055725, 0.1735037863254547, 0.6501405835151672, 0.17649522423744202, 0.041604407131671906, 0.9152969717979431, 0.041604407131671906, 0.32842984795570374, 0.548019528388977, 0.1234794333577156, 0.9650979042053223, 0.06031861901283264, 0.20227649807929993, 0.1855594366788864, 0.6124018430709839, 0.7698007225990295, 0.05531502515077591, 0.17516423761844635, 0.08033610880374908, 0.8836972117424011], \"Term\": [\"accent\", \"access\", \"access\", \"access\", \"air\", \"air\", \"air\", \"aire\", \"apartment\", \"apartment\", \"apartment\", \"area\", \"area\", \"area\", \"arent\", \"arent\", \"arrival\", \"arrival\", \"arrival\", \"ask\", \"ask\", \"ask\", \"available\", \"available\", \"available\", \"ave\", \"ave\", \"ave\", \"away\", \"away\", \"away\", \"b\", \"b\", \"b\", \"bakery\", \"bakery\", \"bakery\", \"barber\", \"barber\", \"bathroom\", \"bathroom\", \"bathroom\", \"beautiful\", \"beautiful\", \"beautiful\", \"bed\", \"bed\", \"bed\", \"bedroom\", \"bedroom\", \"bedroom\", \"bedside\", \"bedside\", \"bedside\", \"bee\", \"bee\", \"bee\", \"belt\", \"belt\", \"bier\", \"bier\", \"bier\", \"block\", \"block\", \"block\", \"blowup\", \"blowup\", \"blowup\", \"booking\", \"booking\", \"booking\", \"borrow\", \"borrow\", \"botanical\", \"botanical\", \"botanical\", \"brett\", \"brett\", \"brownstone\", \"brownstone\", \"brownstone\", \"building\", \"building\", \"building\", \"bus\", \"bus\", \"bus\", \"bushwick!\", \"bushwick!\", \"bushwick!\", \"c\", \"c\", \"c\", \"camp\", \"camp\", \"camp\", \"canal\", \"canal\", \"canal\", \"candy\", \"candy\", \"cant\", \"cant\", \"catholic\", \"catholic\", \"caught\", \"caught\", \"caught\", \"center\", \"center\", \"center\", \"center!\", \"center!\", \"center!\", \"central\", \"central\", \"central\", \"charter\", \"check\", \"check\", \"check\", \"chick\", \"chilling\", \"citizen\", \"citizen\", \"city\", \"city\", \"city\", \"clean\", \"clean\", \"clean\", \"close\", \"close\", \"close\", \"closet\", \"closet\", \"closet\", \"coach\", \"coach\", \"coat\", \"coat\", \"coat\", \"coffee\", \"coffee\", \"coffee\", \"comfortable\", \"comfortable\", \"comfortable\", \"commitment\", \"commitment\", \"con\", \"con\", \"con\", \"configuration\", \"configuration\", \"configuration\", \"convertible\", \"convertible\", \"convertible\", \"corona\", \"corona\", \"corona\", \"couch\", \"couch\", \"couch\", \"counter\", \"counter\", \"counter\", \"courteous\", \"courteous\", \"courteous\", \"craving\", \"craving\", \"craving\", \"crib\", \"crib\", \"crib\", \"crowd\", \"crowd\", \"crowd\", \"cuadra\", \"cultured\", \"cultured\", \"cultured\", \"curfew\", \"curfew\", \"curfew\", \"custom\", \"custom\", \"custom\", \"day\", \"day\", \"day\", \"de\", \"de\", \"de\", \"descent\", \"descent\", \"dining\", \"dining\", \"dining\", \"disappointed\", \"disappointed\", \"dishwasher\", \"dishwasher\", \"dishwasher\", \"dispone\", \"distance\", \"distance\", \"distance\", \"do\", \"do\", \"dont\", \"dont\", \"dont\", \"dramatic\", \"dramatic\", \"ease!\", \"east\", \"east\", \"east\", \"elite\", \"elite\", \"elite\", \"en\", \"en\", \"en\", \"example\", \"example\", \"example\", \"f\", \"f\", \"f\", \"fairway\", \"fairway\", \"fairway\", \"fee\", \"fee\", \"fee\", \"feel\", \"feel\", \"feel\", \"fireplace\", \"fireplace\", \"fireplace\", \"fireplace!\", \"fireplace!\", \"flatware\", \"flatware\", \"floor\", \"floor\", \"floor\", \"follow\", \"follow\", \"follow\", \"formal\", \"formal\", \"formal\", \"free\", \"free\", \"free\", \"full\", \"full\", \"full\", \"fully\", \"fully\", \"fully\", \"further!\", \"golden\", \"golden\", \"golden\", \"great\", \"great\", \"great\", \"guest\", \"guest\", \"guest\", \"hasta\", \"hay\", \"hay\", \"herald\", \"herald\", \"herald\", \"high\", \"high\", \"high\", \"highland\", \"highland\", \"highland\", \"home\", \"home\", \"home\", \"host\", \"host\", \"host\", \"house\", \"house\", \"house\", \"however\", \"however\", \"however\", \"instruction\", \"instruction\", \"involved\", \"involved\", \"jean\", \"jean\", \"job\", \"job\", \"job\", \"joe\", \"joe\", \"joe\", \"keep\", \"keep\", \"keep\", \"key\", \"key\", \"key\", \"keyless\", \"keyless\", \"kitchen\", \"kitchen\", \"kitchen\", \"kitty\", \"know\", \"know\", \"know\", \"kosher\", \"kosher\", \"kosher\", \"laden\", \"laden\", \"large\", \"large\", \"large\", \"leather\", \"leather\", \"leather\", \"leave\", \"leave\", \"leave\", \"like\", \"like\", \"like\", \"line\", \"line\", \"line\", \"living\", \"living\", \"living\", \"location\", \"location\", \"location\", \"love\", \"love\", \"love\", \"make\", \"make\", \"make\", \"mall\", \"mall\", \"mall\", \"marble\", \"marble\", \"marble\", \"market\", \"market\", \"market\", \"married\", \"married\", \"master\", \"master\", \"master\", \"mattress\", \"mattress\", \"mattress\", \"may\", \"may\", \"may\", \"melting\", \"melting\", \"methodist\", \"min\", \"min\", \"min\", \"mingle\", \"mingle\", \"minute\", \"minute\", \"minute\", \"mirror\", \"mirror\", \"mirror\", \"mirrored\", \"mirrored\", \"mirrored\", \"modern\", \"modern\", \"modern\", \"museum\", \"museum\", \"museum\", \"n\", \"n\", \"n\", \"nail\", \"nail\", \"neighborhood\", \"neighborhood\", \"neighborhood\", \"night\", \"night\", \"night\", \"nobody\", \"normally\", \"normally\", \"normally\", \"oculus\", \"oculus\", \"oculus\", \"omega\", \"open\", \"open\", \"open\", \"oven\", \"oven\", \"oven\", \"paced\", \"paced\", \"para\", \"para\", \"park\", \"park\", \"park\", \"parkway\", \"parkway\", \"parkway\", \"people\", \"people\", \"people\", \"per\", \"per\", \"per\", \"pin\", \"pin\", \"pin\", \"place\", \"place\", \"place\", \"plank\", \"plank\", \"plank\", \"plate\", \"plate\", \"please\", \"please\", \"please\", \"pork\", \"powder\", \"precinct\", \"precinct\", \"precinct\", \"private\", \"private\", \"private\", \"prominent\", \"prominent\", \"provider\", \"q\", \"q\", \"q\", \"queen\", \"queen\", \"queen\", \"quiet\", \"quiet\", \"quiet\", \"r\", \"r\", \"r\", \"rain\", \"rain\", \"rain\", \"remember\", \"remember\", \"remember\", \"reservation\", \"reservation\", \"reservation\", \"respect\", \"respect\", \"respect\", \"rooftop!\", \"rooftop!\", \"room\", \"room\", \"room\", \"salon\", \"salon\", \"salon\", \"score\", \"score\", \"score\", \"seaport\", \"seaport\", \"seaport\", \"search\", \"search\", \"search\", \"seater\", \"seater\", \"sent\", \"sent\", \"share\", \"share\", \"share\", \"shopping\", \"shopping\", \"shopping\", \"shower\", \"shower\", \"shower\", \"shrine\", \"shrine\", \"side\", \"side\", \"side\", \"silent\", \"silent\", \"silent\", \"size\", \"size\", \"size\", \"sized\", \"sized\", \"sized\", \"sleek\", \"sleek\", \"sleek\", \"sleeper\", \"sleeper\", \"sleeper\", \"sleeps!\", \"soaking\", \"soaking\", \"soaking\", \"socialize\", \"socialize\", \"socialize\", \"sofa\", \"sofa\", \"sofa\", \"soho\", \"soho\", \"soho\", \"sole\", \"sole\", \"space\", \"space\", \"space\", \"spacious\", \"spacious\", \"spacious\", \"square\", \"square\", \"square\", \"st\", \"st\", \"st\", \"st!\", \"stainless\", \"stainless\", \"stainless\", \"station\", \"station\", \"station\", \"stay\", \"stay\", \"stay\", \"steam\", \"steam\", \"steam\", \"steel\", \"steel\", \"steel\", \"stop\", \"stop\", \"stop\", \"stove\", \"stove\", \"stove\", \"street\", \"street\", \"street\", \"stress\", \"stress\", \"stress\", \"subject\", \"subject\", \"subject\", \"subway\", \"subway\", \"subway\", \"table\", \"table\", \"table\", \"tableware\", \"tableware\", \"target\", \"target\", \"target\", \"tattoo\", \"tattoo\", \"tattoo\", \"te\", \"te\", \"th\", \"th\", \"th\", \"time\", \"time\", \"time\", \"timeless\", \"timeless\", \"timely\", \"timely\", \"timely\", \"trader\", \"trader\", \"trader\", \"train\", \"train\", \"train\", \"transportation!\", \"transportation!\", \"transportation!\", \"tub\", \"tub\", \"tub\", \"tub!\", \"tub!\", \"umbrella\", \"umbrella\", \"umbrella\", \"universal\", \"universal\", \"universal\", \"use\", \"use\", \"use\", \"viking\", \"walk\", \"walk\", \"walk\", \"walking\", \"walking\", \"walking\", \"want\", \"want\", \"want\", \"waste\", \"waste\", \"waste\", \"welcome\", \"welcome\", \"welcome\", \"wet\", \"wet\", \"within\", \"within\", \"within\", \"wood\", \"wood\", \"wood\", \"written\", \"written\"]}, \"R\": 30, \"lambda.step\": 0.01, \"plot.opts\": {\"xlab\": \"PC1\", \"ylab\": \"PC2\"}, \"topic.order\": [1, 2, 3]};\n",
       "\n",
       "function LDAvis_load_lib(url, callback){\n",
       "  var s = document.createElement('script');\n",
       "  s.src = url;\n",
       "  s.async = true;\n",
       "  s.onreadystatechange = s.onload = callback;\n",
       "  s.onerror = function(){console.warn(\"failed to load library \" + url);};\n",
       "  document.getElementsByTagName(\"head\")[0].appendChild(s);\n",
       "}\n",
       "\n",
       "if(typeof(LDAvis) !== \"undefined\"){\n",
       "   // already loaded: just create the visualization\n",
       "   !function(LDAvis){\n",
       "       new LDAvis(\"#\" + \"ldavis_el4278143405234405172515223\", ldavis_el4278143405234405172515223_data);\n",
       "   }(LDAvis);\n",
       "}else if(typeof define === \"function\" && define.amd){\n",
       "   // require.js is available: use it to load d3/LDAvis\n",
       "   require.config({paths: {d3: \"https://cdnjs.cloudflare.com/ajax/libs/d3/3.5.5/d3.min\"}});\n",
       "   require([\"d3\"], function(d3){\n",
       "      window.d3 = d3;\n",
       "      LDAvis_load_lib(\"https://cdn.rawgit.com/bmabey/pyLDAvis/files/ldavis.v1.0.0.js\", function(){\n",
       "        new LDAvis(\"#\" + \"ldavis_el4278143405234405172515223\", ldavis_el4278143405234405172515223_data);\n",
       "      });\n",
       "    });\n",
       "}else{\n",
       "    // require.js not available: dynamically load d3 & LDAvis\n",
       "    LDAvis_load_lib(\"https://cdnjs.cloudflare.com/ajax/libs/d3/3.5.5/d3.min.js\", function(){\n",
       "         LDAvis_load_lib(\"https://cdn.rawgit.com/bmabey/pyLDAvis/files/ldavis.v1.0.0.js\", function(){\n",
       "                 new LDAvis(\"#\" + \"ldavis_el4278143405234405172515223\", ldavis_el4278143405234405172515223_data);\n",
       "            })\n",
       "         });\n",
       "}\n",
       "</script>"
      ],
      "text/plain": [
       "PreparedData(topic_coordinates=              x         y  topics  cluster       Freq\n",
       "topic                                                \n",
       "0     -0.050857  0.028042       1        1  38.214638\n",
       "1     -0.019471 -0.037843       2        1  33.054905\n",
       "2      0.070328  0.009801       3        1  28.730455, topic_info=     Category          Freq          Term         Total  loglift  logprob\n",
       "5     Default   6509.000000          away   6509.000000  30.0000  30.0000\n",
       "164   Default   6337.000000         train   6337.000000  29.0000  29.0000\n",
       "45    Default   5825.000000          park   5825.000000  28.0000  28.0000\n",
       "65    Default   6755.000000          walk   6755.000000  27.0000  27.0000\n",
       "107   Default   3234.000000       walking   3234.000000  26.0000  26.0000\n",
       "62    Default   5445.000000        subway   5445.000000  25.0000  25.0000\n",
       "376   Default   3314.000000           min   3314.000000  24.0000  24.0000\n",
       "77    Default   2720.000000      distance   2720.000000  23.0000  23.0000\n",
       "11    Default   2048.000000           bus   2048.000000  22.0000  22.0000\n",
       "61    Default   4581.000000        street   4581.000000  21.0000  21.0000\n",
       "432   Default   2693.000000        minute   2693.000000  20.0000  20.0000\n",
       "9     Default   3312.000000         block   3312.000000  19.0000  19.0000\n",
       "16    Default   3365.000000       central   3365.000000  18.0000  18.0000\n",
       "53    Default  15540.000000          room  15540.000000  17.0000  17.0000\n",
       "147   Default   7275.000000        living   7275.000000  16.0000  16.0000\n",
       "354   Default   2727.000000       station   2727.000000  15.0000  15.0000\n",
       "8     Default   7874.000000           bed   7874.000000  14.0000  14.0000\n",
       "130   Default   2473.000000          east   2473.000000  13.0000  13.0000\n",
       "405   Default   4154.000000         close   4154.000000  12.0000  12.0000\n",
       "435   Default   1388.000000             q   1388.000000  11.0000  11.0000\n",
       "63    Default   2266.000000            th   2266.000000  10.0000  10.0000\n",
       "6     Default   1428.000000             b   1428.000000   9.0000   9.0000\n",
       "49    Default   7692.000000       private   7692.000000   8.0000   8.0000\n",
       "34    Default   2404.000000         guest   2404.000000   7.0000   7.0000\n",
       "999   Default   1046.000000        museum   1046.000000   6.0000   6.0000\n",
       "111   Default   1794.000000        within   1794.000000   5.0000   5.0000\n",
       "253   Default   1887.000000        center   1887.000000   4.0000   4.0000\n",
       "98    Default   3663.000000         queen   3663.000000   3.0000   3.0000\n",
       "337   Default   1346.000000         check   1346.000000   2.0000   2.0000\n",
       "436   Default    834.000000             r    834.000000   1.0000   1.0000\n",
       "...       ...           ...           ...           ...      ...      ...\n",
       "115    Topic3    739.674805           ave   1125.801147   0.8272  -5.6950\n",
       "9      Topic3   1927.675659         block   3312.172363   0.7059  -4.7372\n",
       "130    Topic3   1472.051636          east   2473.650391   0.7282  -5.0068\n",
       "16     Topic3   1935.310181       central   3365.200195   0.6940  -4.7332\n",
       "111    Topic3   1098.818359        within   1794.573242   0.7567  -5.2993\n",
       "62     Topic3   2945.945801        subway   5445.356934   0.6329  -4.3131\n",
       "61     Topic3   2508.170410        street   4581.995605   0.6446  -4.4739\n",
       "1125   Topic3    734.553406          line   1154.344727   0.7952  -5.7020\n",
       "253    Topic3   1127.480835        center   1887.283203   0.7321  -5.2735\n",
       "103    Topic3    842.068420            st   1380.104980   0.7532  -5.5654\n",
       "63     Topic3   1282.736572            th   2266.079346   0.6782  -5.1445\n",
       "161    Topic3    805.978516          stop   1323.149414   0.7515  -5.6092\n",
       "13     Topic3   1044.659668             c   1813.126465   0.6959  -5.3498\n",
       "265    Topic3    978.992310      shopping   1683.259277   0.7052  -5.4147\n",
       "405    Topic3   1938.085693         close   4154.099609   0.4848  -4.7318\n",
       "382    Topic3   1573.615967        square   3204.133057   0.5361  -4.9401\n",
       "2      Topic3   4998.324707     apartment  17618.072266  -0.0126  -3.7844\n",
       "120    Topic3   1827.174805      building   4648.883789   0.3134  -4.7907\n",
       "474    Topic3   1131.173096      location   2350.171387   0.5160  -5.2702\n",
       "94     Topic3   1755.435059  neighborhood   5100.539062   0.1806  -4.8308\n",
       "417    Topic3    962.679382          side   1796.967529   0.6231  -5.4315\n",
       "212    Topic3   1378.584961          time   4032.259277   0.1739  -5.0724\n",
       "68     Topic3   1916.396362       bedroom  10410.706055  -0.4452  -4.7431\n",
       "51     Topic3   1291.144897         quiet   3818.778809   0.1628  -5.1380\n",
       "334    Topic3   1348.838867     available   4382.906250   0.0687  -5.0943\n",
       "53     Topic3   1901.695312          room  15540.054688  -0.8535  -4.7508\n",
       "86     Topic3   1300.844727         great   4164.238770   0.0837  -5.1305\n",
       "89     Topic3   1581.128784       kitchen  10527.660156  -0.6487  -4.9354\n",
       "18     Topic3   1227.154907          city   4182.862793   0.0209  -5.1888\n",
       "113    Topic3   1195.408813        access   5679.662598  -0.3112  -5.2150\n",
       "\n",
       "[316 rows x 6 columns], token_table=      Topic      Freq       Term\n",
       "term                            \n",
       "4092      1  0.945903     accent\n",
       "113       1  0.419039     access\n",
       "113       2  0.370445     access\n",
       "113       3  0.210400     access\n",
       "1         1  0.605944        air\n",
       "1         2  0.231339        air\n",
       "1         3  0.162642        air\n",
       "6444      1  0.930272       aire\n",
       "2         1  0.479224  apartment\n",
       "2         2  0.237029  apartment\n",
       "2         3  0.283686  apartment\n",
       "172       1  0.386313       area\n",
       "172       2  0.390237       area\n",
       "172       3  0.223460       area\n",
       "8583      2  0.093416      arent\n",
       "8583      3  0.887451      arent\n",
       "880       1  0.141133    arrival\n",
       "880       2  0.742628    arrival\n",
       "880       3  0.117611    arrival\n",
       "273       1  0.112541        ask\n",
       "273       2  0.706510        ask\n",
       "273       3  0.181317        ask\n",
       "334       1  0.212872  available\n",
       "334       2  0.479362  available\n",
       "334       3  0.307787  available\n",
       "115       1  0.221176        ave\n",
       "115       2  0.121691        ave\n",
       "115       3  0.657310        ave\n",
       "5         1  0.155476       away\n",
       "5         2  0.236748       away\n",
       "...     ...       ...        ...\n",
       "7091      3  0.046171  universal\n",
       "250       1  0.298055        use\n",
       "250       2  0.598418        use\n",
       "250       3  0.103069        use\n",
       "4409      1  0.920346     viking\n",
       "65        1  0.217299       walk\n",
       "65        2  0.219520       walk\n",
       "65        3  0.563084       walk\n",
       "107       1  0.158603    walking\n",
       "107       2  0.132942    walking\n",
       "107       3  0.708303    walking\n",
       "440       1  0.173504       want\n",
       "440       2  0.650141       want\n",
       "440       3  0.176495       want\n",
       "2808      1  0.041604      waste\n",
       "2808      2  0.915297      waste\n",
       "2808      3  0.041604      waste\n",
       "214       1  0.328430    welcome\n",
       "214       2  0.548020    welcome\n",
       "214       3  0.123479    welcome\n",
       "4488      1  0.965098        wet\n",
       "4488      2  0.060319        wet\n",
       "111       1  0.202276     within\n",
       "111       2  0.185559     within\n",
       "111       3  0.612402     within\n",
       "267       1  0.769801       wood\n",
       "267       2  0.055315       wood\n",
       "267       3  0.175164       wood\n",
       "3758      1  0.080336    written\n",
       "3758      2  0.883697    written\n",
       "\n",
       "[677 rows x 3 columns], R=30, lambda_step=0.01, plot_opts={'xlab': 'PC1', 'ylab': 'PC2'}, topic_order=[1, 2, 3])"
      ]
     },
     "execution_count": 49,
     "metadata": {},
     "output_type": "execute_result"
    }
   ],
   "source": [
    "pyLDAvis.gensim.prepare(ldamodel_description, doc_term_matrix_description, dictionary_description)"
   ]
  },
  {
   "cell_type": "code",
   "execution_count": null,
   "metadata": {},
   "outputs": [],
   "source": [
    "# 1 luxury 2 budget  3 location"
   ]
  },
  {
   "cell_type": "code",
   "execution_count": 50,
   "metadata": {},
   "outputs": [],
   "source": [
    "new_df = add_topics_to_df(ldamodel_description, doc_term_matrix_description,nyc_desc, num_topics=3)"
   ]
  },
  {
   "cell_type": "code",
   "execution_count": 51,
   "metadata": {},
   "outputs": [
    {
     "name": "stderr",
     "output_type": "stream",
     "text": [
      "/Users/Xiao/anaconda3/lib/python3.6/site-packages/ipykernel_launcher.py:1: FutureWarning: The signature of `Series.to_csv` was aligned to that of `DataFrame.to_csv`, and argument 'header' will change its default value from False to True: please pass an explicit value to suppress this warning.\n",
      "  \"\"\"Entry point for launching an IPython kernel.\n"
     ]
    }
   ],
   "source": [
    "new_df.to_csv(\"/Users/Xiao/Documents/nyc_topic.csv\")"
   ]
  }
 ],
 "metadata": {
  "kernelspec": {
   "display_name": "Python 3",
   "language": "python",
   "name": "python3"
  },
  "language_info": {
   "codemirror_mode": {
    "name": "ipython",
    "version": 3
   },
   "file_extension": ".py",
   "mimetype": "text/x-python",
   "name": "python",
   "nbconvert_exporter": "python",
   "pygments_lexer": "ipython3",
   "version": "3.6.8"
  }
 },
 "nbformat": 4,
 "nbformat_minor": 2
}
